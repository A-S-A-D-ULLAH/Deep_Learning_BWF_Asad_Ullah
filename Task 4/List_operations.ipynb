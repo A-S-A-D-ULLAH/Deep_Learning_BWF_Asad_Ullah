{
  "nbformat": 4,
  "nbformat_minor": 0,
  "metadata": {
    "colab": {
      "provenance": []
    },
    "kernelspec": {
      "name": "python3",
      "display_name": "Python 3"
    },
    "language_info": {
      "name": "python"
    }
  },
  "cells": [
    {
      "cell_type": "markdown",
      "source": [
        "3.1 List Naming"
      ],
      "metadata": {
        "id": "rFV5REFaoxEe"
      }
    },
    {
      "cell_type": "code",
      "source": [
        "names=['Usman','Ejaz','Zeshan','Shah']\n",
        "print(names[0])\n",
        "print(names[1])\n",
        "print(names[2])\n",
        "print(names[3])"
      ],
      "metadata": {
        "colab": {
          "base_uri": "https://localhost:8080/"
        },
        "id": "NzFAYV_JoxTU",
        "outputId": "0795e07f-3df1-4497-b8ff-40a437bb0c95"
      },
      "execution_count": 2,
      "outputs": [
        {
          "output_type": "stream",
          "name": "stdout",
          "text": [
            "Usman\n",
            "Ejaz\n",
            "Zeshan\n",
            "Shah\n"
          ]
        }
      ]
    },
    {
      "cell_type": "markdown",
      "source": [
        "3.2 Greetings"
      ],
      "metadata": {
        "id": "bBtTgV4Xoxur"
      }
    },
    {
      "cell_type": "code",
      "source": [
        "names=['Usman','Ejaz','Zeshan','Shah']\n",
        "print('My friend name is '+ names[0].title())\n",
        "print('My friend name is '+ names[1].title())\n",
        "print('My friend name is '+ names[2].title())\n",
        "print('My friend name is '+ names[3].title())"
      ],
      "metadata": {
        "colab": {
          "base_uri": "https://localhost:8080/"
        },
        "id": "fxpdO_Fdox4s",
        "outputId": "196e6aa8-317b-41ba-815a-312cba778ec8"
      },
      "execution_count": 4,
      "outputs": [
        {
          "output_type": "stream",
          "name": "stdout",
          "text": [
            "My friend name is Usman\n",
            "My friend name is Ejaz\n",
            "My friend name is Zeshan\n",
            "My friend name is Shah\n"
          ]
        }
      ]
    },
    {
      "cell_type": "markdown",
      "source": [
        "3.3 Own List"
      ],
      "metadata": {
        "id": "saYKr0jxoyCt"
      }
    },
    {
      "cell_type": "code",
      "source": [
        "own=['Bike','car','cycle']\n",
        "print('I like to buy '+ own[0].title())\n",
        "print('I like to drive my '+ own[1].title())\n",
        "print('I like '+ own[2].title()+ ' in my Childhood')"
      ],
      "metadata": {
        "colab": {
          "base_uri": "https://localhost:8080/"
        },
        "id": "Ose_zhO_oyKT",
        "outputId": "94b8c240-a0db-468d-c73d-20c76f2a5655"
      },
      "execution_count": 6,
      "outputs": [
        {
          "output_type": "stream",
          "name": "stdout",
          "text": [
            "I like to buy Bike\n",
            "I like to drive my Car\n",
            "I like Cycle in my Childhood\n"
          ]
        }
      ]
    },
    {
      "cell_type": "markdown",
      "source": [
        "3.4 Guest List"
      ],
      "metadata": {
        "id": "eqce-Y9uoySF"
      }
    },
    {
      "cell_type": "code",
      "source": [
        "guest=['shah','arslan','asad']\n",
        "print('I invite you to the dinner '+ guest[0].title() )\n",
        "print('I invite you to the dinner '+ guest[1].title() )\n",
        "print('I invite you to the dinner '+ guest[2].title() )"
      ],
      "metadata": {
        "colab": {
          "base_uri": "https://localhost:8080/"
        },
        "id": "-TRyEkYMoyY7",
        "outputId": "9d2745f5-7b45-4551-bc6a-2071ade3d99c"
      },
      "execution_count": 10,
      "outputs": [
        {
          "output_type": "stream",
          "name": "stdout",
          "text": [
            "I invite you to the dinner Shah\n",
            "I invite you to the dinner Arslan\n",
            "I invite you to the dinner Asad\n"
          ]
        }
      ]
    },
    {
      "cell_type": "markdown",
      "source": [
        "3.5 changing"
      ],
      "metadata": {
        "id": "crAz_qQEoygk"
      }
    },
    {
      "cell_type": "code",
      "source": [
        "guest=['shah','arslan','asad']\n",
        "print('He will not come ' + guest[2])\n",
        "guest[2]='saqib'\n",
        "print(guest)"
      ],
      "metadata": {
        "colab": {
          "base_uri": "https://localhost:8080/"
        },
        "id": "2R194mLyoym7",
        "outputId": "348bd43f-4c9d-4576-dfac-3e51244bd13f"
      },
      "execution_count": 14,
      "outputs": [
        {
          "output_type": "stream",
          "name": "stdout",
          "text": [
            "He will not come asad\n",
            "['shah', 'arslan', 'saqib']\n"
          ]
        }
      ]
    },
    {
      "cell_type": "markdown",
      "source": [
        "3.6 More guest"
      ],
      "metadata": {
        "id": "INbkmCX3oytk"
      }
    },
    {
      "cell_type": "code",
      "source": [
        "guest=['shah','arslan','asad']\n",
        "print(guest[0].title() + ' I found a bigger dinner table')\n",
        "print(guest[1].title() + ' I found a bigger dinner table')\n",
        "print(guest[2].title() + ' I found a bigger dinner table')\n",
        "guest.insert(0,'kafayat')\n",
        "guest.insert(2,'zohaib')\n",
        "guest.append('seemab')\n",
        "print(guest)\n",
        "print('I invite you to the dinner '+ guest[0].title() )\n",
        "print('I invite you to the dinner '+ guest[1].title() )\n",
        "print('I invite you to the dinner '+ guest[2].title() )\n",
        "print('I invite you to the dinner '+ guest[3].title() )\n",
        "print('I invite you to the dinner '+ guest[4].title() )\n",
        "print('I invite you to the dinner '+ guest[5].title() )"
      ],
      "metadata": {
        "colab": {
          "base_uri": "https://localhost:8080/"
        },
        "id": "wz8zeU7Foy1E",
        "outputId": "3131df8e-d53d-4ab4-fccf-8dd027fda232"
      },
      "execution_count": 21,
      "outputs": [
        {
          "output_type": "stream",
          "name": "stdout",
          "text": [
            "Shah I found a bigger dinner table\n",
            "Arslan I found a bigger dinner table\n",
            "Asad I found a bigger dinner table\n",
            "['kafayat', 'shah', 'zohaib', 'arslan', 'asad', 'seemab']\n",
            "I invite you to the dinner Kafayat\n",
            "I invite you to the dinner Shah\n",
            "I invite you to the dinner Zohaib\n",
            "I invite you to the dinner Arslan\n",
            "I invite you to the dinner Asad\n",
            "I invite you to the dinner Seemab\n"
          ]
        }
      ]
    },
    {
      "cell_type": "markdown",
      "source": [
        "3.7 Shrinking guest list"
      ],
      "metadata": {
        "id": "BFOgFhFFoy8c"
      }
    },
    {
      "cell_type": "code",
      "source": [
        "guest=['kafayat','shah','zohab','arslan','asad','seemab']\n",
        "cancel=guest.pop()\n",
        "print(\"sorry for not inviting \"+ cancel)\n",
        "cancel1=guest.pop()\n",
        "print(\"sorry for not inviting \"+ cancel1)\n",
        "cancel2=guest.pop()\n",
        "print(\"sorry for not inviting \"+ cancel2)\n",
        "cancel3=guest.pop()\n",
        "print(\"sorry for not inviting \"+ cancel3)\n",
        "print('I invite you to the dinner '+ guest[0].title() )\n",
        "print('I invite you to the dinner '+ guest[1].title() )\n",
        "del guest[1]\n",
        "del guest[0]\n",
        "print(guest)"
      ],
      "metadata": {
        "colab": {
          "base_uri": "https://localhost:8080/"
        },
        "id": "cDEpZczVozCs",
        "outputId": "42ff5a94-a9fb-4fe5-d60b-c96baeb7fb52"
      },
      "execution_count": 34,
      "outputs": [
        {
          "output_type": "stream",
          "name": "stdout",
          "text": [
            "sorry for not inviting seemab\n",
            "sorry for not inviting asad\n",
            "sorry for not inviting arslan\n",
            "sorry for not inviting zohab\n",
            "I invite you to the dinner Kafayat\n",
            "I invite you to the dinner Shah\n",
            "[]\n"
          ]
        }
      ]
    },
    {
      "cell_type": "markdown",
      "source": [
        "3.8 Seeking the world"
      ],
      "metadata": {
        "id": "tyDkQCVPozJM"
      }
    },
    {
      "cell_type": "code",
      "source": [
        "places=['england','france','turkey','spain','Newyork']\n",
        "places1=['england','france','turkey','spain','Newyork']\n",
        "print(places)\n",
        "print(sorted(places))\n",
        "print(places)\n",
        "places.sort(reverse=True)\n",
        "print(places)\n",
        "print(places1)\n",
        "places1.reverse()\n",
        "print(places1)\n",
        "places1.reverse()\n",
        "print(places1)\n",
        "places1.sort()\n",
        "print(places1)\n",
        "places1.sort(reverse=True)\n",
        "print(places1)"
      ],
      "metadata": {
        "colab": {
          "base_uri": "https://localhost:8080/"
        },
        "id": "QZOZPgRbozQL",
        "outputId": "df73e2cc-e540-4f78-e90e-035dba00e8cc"
      },
      "execution_count": 53,
      "outputs": [
        {
          "output_type": "stream",
          "name": "stdout",
          "text": [
            "['england', 'france', 'turkey', 'spain', 'Newyork']\n",
            "['Newyork', 'england', 'france', 'spain', 'turkey']\n",
            "['england', 'france', 'turkey', 'spain', 'Newyork']\n",
            "['turkey', 'spain', 'france', 'england', 'Newyork']\n",
            "['england', 'france', 'turkey', 'spain', 'Newyork']\n",
            "['Newyork', 'spain', 'turkey', 'france', 'england']\n",
            "['england', 'france', 'turkey', 'spain', 'Newyork']\n",
            "['Newyork', 'england', 'france', 'spain', 'turkey']\n",
            "['turkey', 'spain', 'france', 'england', 'Newyork']\n"
          ]
        }
      ]
    },
    {
      "cell_type": "markdown",
      "source": [
        "Dinner Guest"
      ],
      "metadata": {
        "id": "lvJm6kdlwNMD"
      }
    },
    {
      "cell_type": "code",
      "source": [
        "len(guest)"
      ],
      "metadata": {
        "colab": {
          "base_uri": "https://localhost:8080/"
        },
        "id": "G1L9c0K5wNYi",
        "outputId": "5449bf07-76e8-42f0-8003-c28668e7ee78"
      },
      "execution_count": 54,
      "outputs": [
        {
          "output_type": "execute_result",
          "data": {
            "text/plain": [
              "0"
            ]
          },
          "metadata": {},
          "execution_count": 54
        }
      ]
    },
    {
      "cell_type": "markdown",
      "source": [
        "3.10 Every Function"
      ],
      "metadata": {
        "id": "q4X3bIqfwNuL"
      }
    },
    {
      "cell_type": "code",
      "source": [
        "new=['Lahore','Islamabad','Faisalabad','Peshawar']\n",
        "print(new)\n",
        "print(sorted(new))\n",
        "new.reverse()\n",
        "print(new)\n",
        "new.reverse()\n",
        "print(new)\n",
        "popped=new.pop()\n",
        "print(popped)\n",
        "print(new)\n",
        "del new[0]\n",
        "print(new)\n",
        "new.insert(1,'Naran')\n",
        "print(new)"
      ],
      "metadata": {
        "colab": {
          "base_uri": "https://localhost:8080/"
        },
        "id": "n3neuPPHwN4a",
        "outputId": "f61ee32a-0643-44c1-d817-36173c7e6205"
      },
      "execution_count": 67,
      "outputs": [
        {
          "output_type": "stream",
          "name": "stdout",
          "text": [
            "['Lahore', 'Islamabad', 'Faisalabad', 'Peshawar']\n",
            "['Faisalabad', 'Islamabad', 'Lahore', 'Peshawar']\n",
            "['Peshawar', 'Faisalabad', 'Islamabad', 'Lahore']\n",
            "['Lahore', 'Islamabad', 'Faisalabad', 'Peshawar']\n",
            "Peshawar\n",
            "['Lahore', 'Islamabad', 'Faisalabad']\n",
            "['Islamabad', 'Faisalabad']\n",
            "['Islamabad', 'Naran', 'Faisalabad']\n"
          ]
        }
      ]
    },
    {
      "cell_type": "markdown",
      "source": [
        "3.11 Index error"
      ],
      "metadata": {
        "id": "Oe2DTXR1wOCS"
      }
    },
    {
      "cell_type": "code",
      "source": [
        "new1=['a','b']\n",
        "print(new1)\n",
        "print(new1[2])"
      ],
      "metadata": {
        "colab": {
          "base_uri": "https://localhost:8080/",
          "height": 217
        },
        "id": "CGAqCZTswOOi",
        "outputId": "fd96c47c-3460-4b59-fd03-fff72c1b9b01"
      },
      "execution_count": 69,
      "outputs": [
        {
          "output_type": "stream",
          "name": "stdout",
          "text": [
            "['a', 'b']\n"
          ]
        },
        {
          "output_type": "error",
          "ename": "IndexError",
          "evalue": "ignored",
          "traceback": [
            "\u001b[0;31m---------------------------------------------------------------------------\u001b[0m",
            "\u001b[0;31mIndexError\u001b[0m                                Traceback (most recent call last)",
            "\u001b[0;32m<ipython-input-69-c8ce9465d301>\u001b[0m in \u001b[0;36m<module>\u001b[0;34m\u001b[0m\n\u001b[1;32m      1\u001b[0m \u001b[0mnew1\u001b[0m\u001b[0;34m=\u001b[0m\u001b[0;34m[\u001b[0m\u001b[0;34m'a'\u001b[0m\u001b[0;34m,\u001b[0m\u001b[0;34m'b'\u001b[0m\u001b[0;34m]\u001b[0m\u001b[0;34m\u001b[0m\u001b[0;34m\u001b[0m\u001b[0m\n\u001b[1;32m      2\u001b[0m \u001b[0mprint\u001b[0m\u001b[0;34m(\u001b[0m\u001b[0mnew1\u001b[0m\u001b[0;34m)\u001b[0m\u001b[0;34m\u001b[0m\u001b[0;34m\u001b[0m\u001b[0m\n\u001b[0;32m----> 3\u001b[0;31m \u001b[0mprint\u001b[0m\u001b[0;34m(\u001b[0m\u001b[0mnew1\u001b[0m\u001b[0;34m[\u001b[0m\u001b[0;36m2\u001b[0m\u001b[0;34m]\u001b[0m\u001b[0;34m)\u001b[0m\u001b[0;34m\u001b[0m\u001b[0;34m\u001b[0m\u001b[0m\n\u001b[0m",
            "\u001b[0;31mIndexError\u001b[0m: list index out of range"
          ]
        }
      ]
    },
    {
      "cell_type": "code",
      "source": [],
      "metadata": {
        "id": "e1bgiVtK2S8_"
      },
      "execution_count": null,
      "outputs": []
    }
  ]
}