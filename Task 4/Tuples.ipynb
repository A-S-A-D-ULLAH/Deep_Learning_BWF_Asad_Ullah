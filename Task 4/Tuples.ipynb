{
  "nbformat": 4,
  "nbformat_minor": 0,
  "metadata": {
    "colab": {
      "provenance": []
    },
    "kernelspec": {
      "name": "python3",
      "display_name": "Python 3"
    },
    "language_info": {
      "name": "python"
    }
  },
  "cells": [
    {
      "cell_type": "markdown",
      "source": [
        "Pizaa"
      ],
      "metadata": {
        "id": "qp4-6QMN3JDL"
      }
    },
    {
      "cell_type": "code",
      "source": [
        "pizza=['BBQ Chicken Pizza','Veggie Pizza','Pepperoni Pizza']\n",
        "for piza in pizza:\n",
        "  print('I like ' + piza)\n",
        "print('I really love pizaa')"
      ],
      "metadata": {
        "colab": {
          "base_uri": "https://localhost:8080/"
        },
        "id": "I92yTj-Y3JMj",
        "outputId": "d42e7545-74c2-4524-fc47-91631c3315f9"
      },
      "execution_count": 5,
      "outputs": [
        {
          "output_type": "stream",
          "name": "stdout",
          "text": [
            "I like BBQ Chicken Pizza\n",
            "I like Veggie Pizza\n",
            "I like Pepperoni Pizza\n",
            "I really love pizaa\n"
          ]
        }
      ]
    },
    {
      "cell_type": "markdown",
      "source": [
        "Animals"
      ],
      "metadata": {
        "id": "seB_-qpa3JUj"
      }
    },
    {
      "cell_type": "code",
      "source": [
        "animals=['dog','cat','monkey']\n",
        "for ani in animals:\n",
        "  print('A '+ ani.title() + ' whould be a great pet')\n",
        "print('Any of these animals whould be a great pet')"
      ],
      "metadata": {
        "colab": {
          "base_uri": "https://localhost:8080/"
        },
        "id": "mbf3QvgX3Jbi",
        "outputId": "ba5b206c-f29c-402b-8d27-19cc5866afef"
      },
      "execution_count": 7,
      "outputs": [
        {
          "output_type": "stream",
          "name": "stdout",
          "text": [
            "A Dog whould be a great pet\n",
            "A Cat whould be a great pet\n",
            "A Monkey whould be a great pet\n",
            "Any of these animals whould be a great pet\n"
          ]
        }
      ]
    },
    {
      "cell_type": "markdown",
      "source": [
        "1 to 20"
      ],
      "metadata": {
        "id": "PCDVzcro3JiC"
      }
    },
    {
      "cell_type": "code",
      "source": [
        "for i in range(1,20):\n",
        "  print(i)"
      ],
      "metadata": {
        "colab": {
          "base_uri": "https://localhost:8080/"
        },
        "id": "QurdtgVA3Jpd",
        "outputId": "7e747930-0072-478f-9e03-a8ca12f2f490"
      },
      "execution_count": 8,
      "outputs": [
        {
          "output_type": "stream",
          "name": "stdout",
          "text": [
            "1\n",
            "2\n",
            "3\n",
            "4\n",
            "5\n",
            "6\n",
            "7\n",
            "8\n",
            "9\n",
            "10\n",
            "11\n",
            "12\n",
            "13\n",
            "14\n",
            "15\n",
            "16\n",
            "17\n",
            "18\n",
            "19\n"
          ]
        }
      ]
    },
    {
      "cell_type": "markdown",
      "source": [
        "Branch"
      ],
      "metadata": {
        "id": "7SCIwtFg3JwM"
      }
    },
    {
      "cell_type": "code",
      "source": [
        "restaurent= ('tea','Ice cream','Cake','chocolate','sandwich')\n",
        "for i in restaurent:\n",
        "  print(i)\n",
        "\n",
        "restaurent=('Green tea','shake','Cake','chocolate','sandwich')\n",
        "print(\"\\nmodified list of items\\n\")\n",
        "for i in restaurent:\n",
        "  print(i)"
      ],
      "metadata": {
        "colab": {
          "base_uri": "https://localhost:8080/"
        },
        "id": "0rIr8lMp3KFD",
        "outputId": "a925c18f-7518-4290-c1a4-b8bf22bd1a1b"
      },
      "execution_count": 23,
      "outputs": [
        {
          "output_type": "stream",
          "name": "stdout",
          "text": [
            "tea\n",
            "Ice cream\n",
            "Cake\n",
            "chocolate\n",
            "sandwich\n",
            "\n",
            "modified list of items\n",
            "\n",
            "Green tea\n",
            "shake\n",
            "Cake\n",
            "chocolate\n",
            "sandwich\n"
          ]
        }
      ]
    },
    {
      "cell_type": "markdown",
      "source": [
        "List range"
      ],
      "metadata": {
        "id": "BasF_ZrM3KK6"
      }
    },
    {
      "cell_type": "code",
      "source": [
        "millions= range(1,1000001)\n",
        "for million in millions:\n",
        "    print(million)\n"
      ],
      "metadata": {
        "id": "HODsj_nK3KRL"
      },
      "execution_count": null,
      "outputs": []
    },
    {
      "cell_type": "markdown",
      "source": [
        "Min, Max, Sum"
      ],
      "metadata": {
        "id": "rbxCLKXvAeyw"
      }
    },
    {
      "cell_type": "code",
      "source": [
        "millions= range(1,1000001)\n",
        "print(min(millions))\n",
        "print(max(millions))\n",
        "print(sum(millions))"
      ],
      "metadata": {
        "colab": {
          "base_uri": "https://localhost:8080/"
        },
        "id": "PZipS_JD_yJp",
        "outputId": "a1e5c30a-daef-4983-be63-d8a4f772de97"
      },
      "execution_count": 29,
      "outputs": [
        {
          "output_type": "stream",
          "name": "stdout",
          "text": [
            "1\n",
            "1000000\n",
            "500000500000\n"
          ]
        }
      ]
    },
    {
      "cell_type": "markdown",
      "source": [
        "Odd number"
      ],
      "metadata": {
        "id": "3LiMaejkAjbn"
      }
    },
    {
      "cell_type": "code",
      "source": [
        "odd=range(1,20,2)\n",
        "for i in odd:\n",
        "  print(i)"
      ],
      "metadata": {
        "colab": {
          "base_uri": "https://localhost:8080/"
        },
        "id": "9VxrPQDdAPUw",
        "outputId": "d45128df-7855-409e-bbad-c6e91f981c79"
      },
      "execution_count": 31,
      "outputs": [
        {
          "output_type": "stream",
          "name": "stdout",
          "text": [
            "1\n",
            "3\n",
            "5\n",
            "7\n",
            "9\n",
            "11\n",
            "13\n",
            "15\n",
            "17\n",
            "19\n"
          ]
        }
      ]
    },
    {
      "cell_type": "markdown",
      "source": [
        "Multiple of 3"
      ],
      "metadata": {
        "id": "K4w3y57EA5Uj"
      }
    },
    {
      "cell_type": "code",
      "source": [
        "multi=range(3,30)\n",
        "for i in multi:\n",
        "  if i%3==0:\n",
        "    print(i)\n",
        "    "
      ],
      "metadata": {
        "colab": {
          "base_uri": "https://localhost:8080/"
        },
        "id": "FmFxyR-iA5h6",
        "outputId": "4beab01a-2d6b-4056-c176-845615ca5be7"
      },
      "execution_count": 32,
      "outputs": [
        {
          "output_type": "stream",
          "name": "stdout",
          "text": [
            "3\n",
            "6\n",
            "9\n",
            "12\n",
            "15\n",
            "18\n",
            "21\n",
            "24\n",
            "27\n"
          ]
        }
      ]
    },
    {
      "cell_type": "markdown",
      "source": [
        "Cube"
      ],
      "metadata": {
        "id": "cxqseA3FA5t2"
      }
    },
    {
      "cell_type": "code",
      "source": [
        "Cube=range(1,10)\n",
        "for i in Cube:\n",
        "  answer=i**3\n",
        "  print(answer)"
      ],
      "metadata": {
        "colab": {
          "base_uri": "https://localhost:8080/"
        },
        "id": "IbkMIUbgA55n",
        "outputId": "22390ae0-f440-45ad-fbd0-2af5e08749a2"
      },
      "execution_count": 34,
      "outputs": [
        {
          "output_type": "stream",
          "name": "stdout",
          "text": [
            "1\n",
            "8\n",
            "27\n",
            "64\n",
            "125\n",
            "216\n",
            "343\n",
            "512\n",
            "729\n"
          ]
        }
      ]
    },
    {
      "cell_type": "code",
      "source": [],
      "metadata": {
        "id": "Jt6PbiX2Awe5"
      },
      "execution_count": null,
      "outputs": []
    }
  ]
}