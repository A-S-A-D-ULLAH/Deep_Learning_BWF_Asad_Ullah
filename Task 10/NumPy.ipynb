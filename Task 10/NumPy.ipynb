{
  "nbformat": 4,
  "nbformat_minor": 0,
  "metadata": {
    "colab": {
      "provenance": []
    },
    "kernelspec": {
      "name": "python3",
      "display_name": "Python 3"
    },
    "language_info": {
      "name": "python"
    }
  },
  "cells": [
    {
      "cell_type": "code",
      "execution_count": 1,
      "metadata": {
        "id": "Idtt223b8xev"
      },
      "outputs": [],
      "source": [
        "import numpy as np"
      ]
    },
    {
      "cell_type": "code",
      "source": [
        "data = np.random.randn(10, 12)\n",
        "data"
      ],
      "metadata": {
        "colab": {
          "base_uri": "https://localhost:8080/"
        },
        "id": "NCxRPcRh9eNc",
        "outputId": "a0544825-f86f-4ef7-89d9-759e9383db43"
      },
      "execution_count": 4,
      "outputs": [
        {
          "output_type": "execute_result",
          "data": {
            "text/plain": [
              "array([[ 1.64131285, -0.11946047,  0.09199506,  0.10276888,  0.30829097,\n",
              "         0.38619065, -0.88866855,  0.41662738,  1.90804218,  1.72049492,\n",
              "        -1.45865048, -0.73177477],\n",
              "       [ 1.55578284,  0.61214977, -1.58735188, -0.3835633 ,  0.62053038,\n",
              "        -1.28951762,  1.23761223,  0.74552872,  0.57411197, -0.61415006,\n",
              "        -0.38378071, -0.97583228],\n",
              "       [-0.60586262,  0.97815132, -0.60419039,  1.3793009 , -0.75569516,\n",
              "         0.93027459, -0.21889848, -0.24028922, -0.55035732, -0.78362245,\n",
              "        -0.49660942, -2.19925795],\n",
              "       [ 0.95721168, -0.69348194,  0.2300082 , -1.49994663,  0.30184911,\n",
              "        -2.1740169 ,  1.38841567, -0.10810842, -0.97563949, -0.25936559,\n",
              "         0.14857573, -1.62047463],\n",
              "       [-0.93979206,  0.40722596, -1.43730044,  1.14984446,  0.87481735,\n",
              "         0.58793296,  1.44821002, -0.50460702, -0.1316271 , -0.45660254,\n",
              "         1.03817173, -1.05072762],\n",
              "       [ 1.17929972, -0.15285842,  0.22210388,  0.19723974,  0.9237841 ,\n",
              "        -1.40058535,  0.95284648,  0.45803853, -0.85234583, -0.4935399 ,\n",
              "        -0.52616396,  0.58316496],\n",
              "       [-1.0517595 ,  0.39969293, -0.52792305,  0.68748706,  0.99934785,\n",
              "        -0.65990789,  0.25830552,  0.64885496,  0.12369345, -0.37593197,\n",
              "         1.37094534, -0.69201885],\n",
              "       [-0.48391385,  1.35098551,  0.74247865, -0.11166604, -0.03115689,\n",
              "         0.27691621,  0.75859997,  1.97323888,  0.5582225 , -0.58033503,\n",
              "         1.06018124,  1.12551135],\n",
              "       [-0.4361121 , -1.09288265, -0.75749101, -1.39492199,  0.11284018,\n",
              "         0.89757488, -1.77184245, -0.31950191,  1.11022279,  0.47218113,\n",
              "        -0.80295799,  1.25727922],\n",
              "       [ 0.52347586,  0.13305317,  0.96063796,  0.36710327,  0.80673726,\n",
              "         0.0202368 , -0.07184074, -0.46994194, -0.71850955,  0.22198451,\n",
              "        -1.15573843,  0.18496797]])"
            ]
          },
          "metadata": {},
          "execution_count": 4
        }
      ]
    },
    {
      "cell_type": "markdown",
      "source": [
        "shape"
      ],
      "metadata": {
        "id": "dIXtMBTO9qRq"
      }
    },
    {
      "cell_type": "code",
      "source": [
        "data.shape"
      ],
      "metadata": {
        "colab": {
          "base_uri": "https://localhost:8080/"
        },
        "id": "3yUpClIf9lTp",
        "outputId": "5be597d4-3d35-4cb8-ac34-7f3da7a03883"
      },
      "execution_count": 5,
      "outputs": [
        {
          "output_type": "execute_result",
          "data": {
            "text/plain": [
              "(10, 12)"
            ]
          },
          "metadata": {},
          "execution_count": 5
        }
      ]
    },
    {
      "cell_type": "code",
      "source": [
        "data.dtype"
      ],
      "metadata": {
        "colab": {
          "base_uri": "https://localhost:8080/"
        },
        "id": "qToI8lT19sMN",
        "outputId": "8706cbe4-81fb-4446-be02-5e90dca0a828"
      },
      "execution_count": 6,
      "outputs": [
        {
          "output_type": "execute_result",
          "data": {
            "text/plain": [
              "dtype('float64')"
            ]
          },
          "metadata": {},
          "execution_count": 6
        }
      ]
    },
    {
      "cell_type": "code",
      "source": [
        "new=[1,2,3,4,5,6,7,8,9]\n",
        "data1=np.array(new)\n",
        "data1"
      ],
      "metadata": {
        "colab": {
          "base_uri": "https://localhost:8080/"
        },
        "id": "34zvQsYP90o4",
        "outputId": "76523e70-ef5b-4c89-ab6f-5ff4a4ce5b13"
      },
      "execution_count": 8,
      "outputs": [
        {
          "output_type": "execute_result",
          "data": {
            "text/plain": [
              "array([1, 2, 3, 4, 5, 6, 7, 8, 9])"
            ]
          },
          "metadata": {},
          "execution_count": 8
        }
      ]
    },
    {
      "cell_type": "code",
      "source": [
        "arr1 = np.array([1, 2, 3], dtype=np.float64)\n",
        "arr2 = np.array([1, 2, 3], dtype=np.int32)\n",
        "arr1.dtype\n"
      ],
      "metadata": {
        "colab": {
          "base_uri": "https://localhost:8080/"
        },
        "id": "e-KvqL8e-Dky",
        "outputId": "b726b1eb-4d94-4107-9e89-1d7bc78fc831"
      },
      "execution_count": 14,
      "outputs": [
        {
          "output_type": "execute_result",
          "data": {
            "text/plain": [
              "dtype('float64')"
            ]
          },
          "metadata": {},
          "execution_count": 14
        }
      ]
    },
    {
      "cell_type": "code",
      "source": [
        "arr2.dtype"
      ],
      "metadata": {
        "colab": {
          "base_uri": "https://localhost:8080/"
        },
        "id": "PUwMAFor-YUr",
        "outputId": "3b389a7c-19ff-4887-868d-1da552cc67ef"
      },
      "execution_count": 13,
      "outputs": [
        {
          "output_type": "execute_result",
          "data": {
            "text/plain": [
              "dtype('int32')"
            ]
          },
          "metadata": {},
          "execution_count": 13
        }
      ]
    },
    {
      "cell_type": "markdown",
      "source": [
        "Arithmetic"
      ],
      "metadata": {
        "id": "pY5aUYXx-ry5"
      }
    },
    {
      "cell_type": "code",
      "source": [
        "arr = np.array([[1., 2., 3.], [4., 5., 6.]])\n",
        "arr"
      ],
      "metadata": {
        "colab": {
          "base_uri": "https://localhost:8080/"
        },
        "id": "91VazOmE-kRH",
        "outputId": "324a7edf-f585-477d-d2a2-59371bb48681"
      },
      "execution_count": 16,
      "outputs": [
        {
          "output_type": "execute_result",
          "data": {
            "text/plain": [
              "array([[1., 2., 3.],\n",
              "       [4., 5., 6.]])"
            ]
          },
          "metadata": {},
          "execution_count": 16
        }
      ]
    },
    {
      "cell_type": "code",
      "source": [
        "print(arr*arr)"
      ],
      "metadata": {
        "colab": {
          "base_uri": "https://localhost:8080/"
        },
        "id": "ub2mamma-0qs",
        "outputId": "a3a5e1aa-7f35-4fb9-84fc-f7e111251dd2"
      },
      "execution_count": 17,
      "outputs": [
        {
          "output_type": "stream",
          "name": "stdout",
          "text": [
            "[[ 1.  4.  9.]\n",
            " [16. 25. 36.]]\n"
          ]
        }
      ]
    },
    {
      "cell_type": "code",
      "source": [
        "print(arr-arr)"
      ],
      "metadata": {
        "colab": {
          "base_uri": "https://localhost:8080/"
        },
        "id": "1YHA4tsw-4ud",
        "outputId": "ff1f9f98-74b4-4860-a85a-18bc7c51e8eb"
      },
      "execution_count": 18,
      "outputs": [
        {
          "output_type": "stream",
          "name": "stdout",
          "text": [
            "[[0. 0. 0.]\n",
            " [0. 0. 0.]]\n"
          ]
        }
      ]
    },
    {
      "cell_type": "code",
      "source": [
        "print(arr+arr)"
      ],
      "metadata": {
        "colab": {
          "base_uri": "https://localhost:8080/"
        },
        "id": "0O5oq5xI-98w",
        "outputId": "bb5cf44d-865e-4b77-f1c4-20dba47323f9"
      },
      "execution_count": 19,
      "outputs": [
        {
          "output_type": "stream",
          "name": "stdout",
          "text": [
            "[[ 2.  4.  6.]\n",
            " [ 8. 10. 12.]]\n"
          ]
        }
      ]
    },
    {
      "cell_type": "code",
      "source": [
        "print(arr/arr)"
      ],
      "metadata": {
        "colab": {
          "base_uri": "https://localhost:8080/"
        },
        "id": "ARYaoF84_Apf",
        "outputId": "4e995755-a619-4a07-978c-508a767b6ccf"
      },
      "execution_count": 20,
      "outputs": [
        {
          "output_type": "stream",
          "name": "stdout",
          "text": [
            "[[1. 1. 1.]\n",
            " [1. 1. 1.]]\n"
          ]
        }
      ]
    },
    {
      "cell_type": "markdown",
      "source": [
        "2d"
      ],
      "metadata": {
        "id": "DQieHxtq_RIS"
      }
    },
    {
      "cell_type": "code",
      "source": [
        "arr2d = np.array([[1, 2, 3], [4, 5, 6], [7, 8, 9]])"
      ],
      "metadata": {
        "id": "hvExGdQi_DD7"
      },
      "execution_count": 21,
      "outputs": []
    },
    {
      "cell_type": "code",
      "source": [
        "arr2d[2]"
      ],
      "metadata": {
        "colab": {
          "base_uri": "https://localhost:8080/"
        },
        "id": "EFVGgJVW_SJb",
        "outputId": "746b87fa-c69a-409c-98c7-d37f198a0e11"
      },
      "execution_count": 22,
      "outputs": [
        {
          "output_type": "execute_result",
          "data": {
            "text/plain": [
              "array([7, 8, 9])"
            ]
          },
          "metadata": {},
          "execution_count": 22
        }
      ]
    },
    {
      "cell_type": "code",
      "source": [
        "arr2d[0, 2]"
      ],
      "metadata": {
        "colab": {
          "base_uri": "https://localhost:8080/"
        },
        "id": "FO0z9ZTx_Uo6",
        "outputId": "699d37cf-808b-4157-b8ec-9fa036d71556"
      },
      "execution_count": 23,
      "outputs": [
        {
          "output_type": "execute_result",
          "data": {
            "text/plain": [
              "3"
            ]
          },
          "metadata": {},
          "execution_count": 23
        }
      ]
    },
    {
      "cell_type": "code",
      "source": [],
      "metadata": {
        "id": "CY0hL_O8_X89"
      },
      "execution_count": null,
      "outputs": []
    }
  ]
}