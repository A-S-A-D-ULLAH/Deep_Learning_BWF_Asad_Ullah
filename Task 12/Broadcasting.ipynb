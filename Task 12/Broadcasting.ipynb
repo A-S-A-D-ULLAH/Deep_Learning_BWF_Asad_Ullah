{
  "nbformat": 4,
  "nbformat_minor": 0,
  "metadata": {
    "colab": {
      "provenance": []
    },
    "kernelspec": {
      "name": "python3",
      "display_name": "Python 3"
    },
    "language_info": {
      "name": "python"
    }
  },
  "cells": [
    {
      "cell_type": "code",
      "execution_count": 4,
      "metadata": {
        "id": "HyCWXYDKFswS"
      },
      "outputs": [],
      "source": [
        "import numpy as np \n"
      ]
    },
    {
      "cell_type": "code",
      "source": [
        "a = np.array([1,2,3,4]) \n",
        "b = np.array([10,20,30,40]) \n",
        "c = a * b \n",
        "print(c)"
      ],
      "metadata": {
        "colab": {
          "base_uri": "https://localhost:8080/"
        },
        "id": "JMiyMGA3FzHU",
        "outputId": "a237666f-5292-495c-b99d-352c77cc59cb"
      },
      "execution_count": 6,
      "outputs": [
        {
          "output_type": "stream",
          "name": "stdout",
          "text": [
            "[ 10  40  90 160]\n"
          ]
        }
      ]
    },
    {
      "cell_type": "code",
      "source": [
        "a = np.array([[0.0,0.0,0.0],[10.0,10.0,10.0],[20.0,20.0,20.0],[30.0,30.0,30.0]]) \n",
        "b = np.array([1.0,2.0,3.0])  "
      ],
      "metadata": {
        "id": "SCe30EOhGmWa"
      },
      "execution_count": 8,
      "outputs": []
    },
    {
      "cell_type": "code",
      "source": [
        "print ('First array:') \n",
        "print (a) \n",
        "print ('\\n')  \n",
        "   \n",
        "print ('Second array:') \n",
        "print (b )\n",
        "print ('\\n')  \n",
        "   \n",
        "print ('First Array + Second Array') \n",
        "print (a + b)"
      ],
      "metadata": {
        "colab": {
          "base_uri": "https://localhost:8080/"
        },
        "id": "TUmVX_BOGw7_",
        "outputId": "f29fcf14-9206-4482-b4bc-84f2cd56555a"
      },
      "execution_count": 10,
      "outputs": [
        {
          "output_type": "stream",
          "name": "stdout",
          "text": [
            "First array:\n",
            "[[ 0.  0.  0.]\n",
            " [10. 10. 10.]\n",
            " [20. 20. 20.]\n",
            " [30. 30. 30.]]\n",
            "\n",
            "\n",
            "Second array:\n",
            "[1. 2. 3.]\n",
            "\n",
            "\n",
            "First Array + Second Array\n",
            "[[ 1.  2.  3.]\n",
            " [11. 12. 13.]\n",
            " [21. 22. 23.]\n",
            " [31. 32. 33.]]\n"
          ]
        }
      ]
    },
    {
      "cell_type": "code",
      "source": [
        "A = np.array([[11, 22, 33], [10, 20, 30]])\n",
        "print(A)\n",
        " \n"
      ],
      "metadata": {
        "colab": {
          "base_uri": "https://localhost:8080/"
        },
        "id": "J3qOIF1YG1Kb",
        "outputId": "3cc5cd1f-0733-4c37-dc1a-dbb6d59191ce"
      },
      "execution_count": 12,
      "outputs": [
        {
          "output_type": "stream",
          "name": "stdout",
          "text": [
            "[[11 22 33]\n",
            " [10 20 30]]\n"
          ]
        }
      ]
    },
    {
      "cell_type": "code",
      "source": [
        "b = 4\n",
        "print(b)\n",
        " \n",
        "C = A + b\n",
        "print(C)"
      ],
      "metadata": {
        "colab": {
          "base_uri": "https://localhost:8080/"
        },
        "id": "yFyKxJjzHO7I",
        "outputId": "c8bff752-eee3-4c96-fdc3-531bc830f890"
      },
      "execution_count": 13,
      "outputs": [
        {
          "output_type": "stream",
          "name": "stdout",
          "text": [
            "4\n",
            "[[15 26 37]\n",
            " [14 24 34]]\n"
          ]
        }
      ]
    },
    {
      "cell_type": "code",
      "source": [],
      "metadata": {
        "id": "ZlVGIbj4HVPR"
      },
      "execution_count": null,
      "outputs": []
    }
  ]
}