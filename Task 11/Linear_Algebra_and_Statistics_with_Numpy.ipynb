{
  "nbformat": 4,
  "nbformat_minor": 0,
  "metadata": {
    "colab": {
      "provenance": []
    },
    "kernelspec": {
      "name": "python3",
      "display_name": "Python 3"
    },
    "language_info": {
      "name": "python"
    }
  },
  "cells": [
    {
      "cell_type": "code",
      "execution_count": 7,
      "metadata": {
        "id": "oba5YDDaAAIh"
      },
      "outputs": [],
      "source": [
        "import numpy as np\n",
        "from numpy import linalg as geek"
      ]
    },
    {
      "cell_type": "code",
      "source": [
        "A = np.array([[6, 1, 1],\n",
        "              [4, -2, 5],\n",
        "              [2, 8, 7]])\n"
      ],
      "metadata": {
        "id": "qwAgpKfKAMX9"
      },
      "execution_count": 2,
      "outputs": []
    },
    {
      "cell_type": "markdown",
      "source": [
        "Rank of a Matrix"
      ],
      "metadata": {
        "id": "ycR93EuIAT8o"
      }
    },
    {
      "cell_type": "code",
      "source": [
        "print(\"Rank of A:\", np.linalg.matrix_rank(A))\n"
      ],
      "metadata": {
        "colab": {
          "base_uri": "https://localhost:8080/"
        },
        "id": "p7pM3l-wASZr",
        "outputId": "c6161165-d646-4f58-ad97-c83d8224f76b"
      },
      "execution_count": 3,
      "outputs": [
        {
          "output_type": "stream",
          "name": "stdout",
          "text": [
            "Rank of A: 3\n"
          ]
        }
      ]
    },
    {
      "cell_type": "markdown",
      "source": [
        "Trace of a Matrix"
      ],
      "metadata": {
        "id": "mmIclA7mAY0w"
      }
    },
    {
      "cell_type": "code",
      "source": [
        "print(\"\\nTrace of A:\", np.trace(A))"
      ],
      "metadata": {
        "colab": {
          "base_uri": "https://localhost:8080/"
        },
        "id": "O6u9TSahAanL",
        "outputId": "5160db1b-5857-433a-e710-5f8d859683ff"
      },
      "execution_count": 4,
      "outputs": [
        {
          "output_type": "stream",
          "name": "stdout",
          "text": [
            "\n",
            "Trace of A: 11\n"
          ]
        }
      ]
    },
    {
      "cell_type": "markdown",
      "source": [
        "Determinant of a matrix"
      ],
      "metadata": {
        "id": "tGB1WV39AbVQ"
      }
    },
    {
      "cell_type": "code",
      "source": [
        "print(\"\\nDeterminant of A:\", np.linalg.det(A))"
      ],
      "metadata": {
        "colab": {
          "base_uri": "https://localhost:8080/"
        },
        "id": "PGkSivtDAdx-",
        "outputId": "d0f26b4b-3e12-4785-ec85-dbb7d4f8a6b5"
      },
      "execution_count": 5,
      "outputs": [
        {
          "output_type": "stream",
          "name": "stdout",
          "text": [
            "\n",
            "Determinant of A: -306.0\n"
          ]
        }
      ]
    },
    {
      "cell_type": "markdown",
      "source": [
        "Inverse"
      ],
      "metadata": {
        "id": "FTfXKFUzAfjl"
      }
    },
    {
      "cell_type": "code",
      "source": [
        "print(\"\\nInverse of A:\\n\", np.linalg.inv(A))\n",
        " \n",
        "print(\"\\nMatrix A raised to power 3:\\n\",\n",
        "           np.linalg.matrix_power(A, 3))"
      ],
      "metadata": {
        "colab": {
          "base_uri": "https://localhost:8080/"
        },
        "id": "D5Z5oaIvAgfg",
        "outputId": "63a43a07-94b6-4a0d-a09c-247c2152e7fc"
      },
      "execution_count": 6,
      "outputs": [
        {
          "output_type": "stream",
          "name": "stdout",
          "text": [
            "\n",
            "Inverse of A:\n",
            " [[ 0.17647059 -0.00326797 -0.02287582]\n",
            " [ 0.05882353 -0.13071895  0.08496732]\n",
            " [-0.11764706  0.1503268   0.05228758]]\n",
            "\n",
            "Matrix A raised to power 3:\n",
            " [[336 162 228]\n",
            " [406 162 469]\n",
            " [698 702 905]]\n"
          ]
        }
      ]
    },
    {
      "cell_type": "markdown",
      "source": [
        "Eigen Value"
      ],
      "metadata": {
        "id": "ErT45Pb1BE1J"
      }
    },
    {
      "cell_type": "code",
      "source": [
        "a = np.diag((1, 2, 3))\n",
        "print(a)\n",
        "c, d = geek.eig(a)\n",
        " \n",
        "print(\"\\nEigen value is :\",c)\n",
        "print(\"Eigen value is :\",d)"
      ],
      "metadata": {
        "colab": {
          "base_uri": "https://localhost:8080/"
        },
        "id": "8ZskKssQAsXc",
        "outputId": "f45a25ec-6152-4d6d-f4ab-f5af3b9648b2"
      },
      "execution_count": 12,
      "outputs": [
        {
          "output_type": "stream",
          "name": "stdout",
          "text": [
            "[[1 0 0]\n",
            " [0 2 0]\n",
            " [0 0 3]]\n",
            "\n",
            "Eigen value is : [1. 2. 3.]\n",
            "Eigen value is : [[1. 0. 0.]\n",
            " [0. 1. 0.]\n",
            " [0. 0. 1.]]\n"
          ]
        }
      ]
    },
    {
      "cell_type": "markdown",
      "source": [
        "Statistical Functions"
      ],
      "metadata": {
        "id": "jd9E4eoqBuaI"
      }
    },
    {
      "cell_type": "code",
      "source": [
        "a = np.array([[2,10,20],[80,43,31],[22,43,10]]) \n",
        "print(a)"
      ],
      "metadata": {
        "colab": {
          "base_uri": "https://localhost:8080/"
        },
        "id": "OIXyucwKBGr3",
        "outputId": "c9f4e62e-8913-4a75-8a22-d11dc97f9449"
      },
      "execution_count": 14,
      "outputs": [
        {
          "output_type": "stream",
          "name": "stdout",
          "text": [
            "[[ 2 10 20]\n",
            " [80 43 31]\n",
            " [22 43 10]]\n"
          ]
        }
      ]
    },
    {
      "cell_type": "code",
      "source": [
        "print(\"\\nThe minimum element among the array:\",np.amin(a))  \n",
        "print(\"The maximum element among the array:\",np.amax(a))  \n",
        " "
      ],
      "metadata": {
        "colab": {
          "base_uri": "https://localhost:8080/"
        },
        "id": "XssC3u9ZBy0k",
        "outputId": "f1a0339a-72a8-49a5-d7da-059e0be8d954"
      },
      "execution_count": 22,
      "outputs": [
        {
          "output_type": "stream",
          "name": "stdout",
          "text": [
            "\n",
            "The minimum element among the array: 2\n",
            "The maximum element among the array: 80\n"
          ]
        }
      ]
    },
    {
      "cell_type": "code",
      "source": [
        "print(\"\\nptp value along axis 1:\",np.ptp(a,1))  \n",
        "  \n",
        "print(\"ptp value along axis 0:\",np.ptp(a,0))"
      ],
      "metadata": {
        "colab": {
          "base_uri": "https://localhost:8080/"
        },
        "id": "ZZgte0emB9Ig",
        "outputId": "d580f3bf-adda-4d2b-a721-20cee9504f88"
      },
      "execution_count": 26,
      "outputs": [
        {
          "output_type": "stream",
          "name": "stdout",
          "text": [
            "\n",
            "ptp value along axis 1: [18 49 33]\n",
            "ptp value along axis 0: [78 33 21]\n"
          ]
        }
      ]
    },
    {
      "cell_type": "markdown",
      "source": [
        "Percentile"
      ],
      "metadata": {
        "id": "GZqwSgYjCoOX"
      }
    },
    {
      "cell_type": "code",
      "source": [
        "print(\"\\nPercentile along axis 0\",np.percentile(a, 10,0))  \n",
        "  \n",
        "print(\"Percentile along axis 1\",np.percentile(a, 10, 1))  "
      ],
      "metadata": {
        "colab": {
          "base_uri": "https://localhost:8080/"
        },
        "id": "kIP6Q13qCA3a",
        "outputId": "e1d675fb-c37b-496b-dc46-a4451ce79e65"
      },
      "execution_count": 27,
      "outputs": [
        {
          "output_type": "stream",
          "name": "stdout",
          "text": [
            "\n",
            "Percentile along axis 0 [ 6.  16.6 12. ]\n",
            "Percentile along axis 1 [ 3.6 33.4 12.4]\n"
          ]
        }
      ]
    },
    {
      "cell_type": "markdown",
      "source": [
        "Mean, Median and Average"
      ],
      "metadata": {
        "id": "f9y95Wa7CyAa"
      }
    },
    {
      "cell_type": "code",
      "source": [
        "a = np.array([[1,2,3],[4,5,6],[7,8,9]])  \n",
        "  \n",
        "print(\"Array:\\n\",a)  \n",
        "  \n",
        "print(\"\\nMedian of array along axis 0:\",np.median(a,0))  \n",
        "print(\"Mean of array along axis 0:\",np.mean(a,0))  \n",
        "print(\"Average of array along axis 1:\",np.average(a,1))  "
      ],
      "metadata": {
        "colab": {
          "base_uri": "https://localhost:8080/"
        },
        "id": "MlXSJmHgCCEK",
        "outputId": "2089c643-450b-4ce0-f048-767d2d746d12"
      },
      "execution_count": 28,
      "outputs": [
        {
          "output_type": "stream",
          "name": "stdout",
          "text": [
            "Array:\n",
            " [[1 2 3]\n",
            " [4 5 6]\n",
            " [7 8 9]]\n",
            "\n",
            "Median of array along axis 0: [4. 5. 6.]\n",
            "Mean of array along axis 0: [4. 5. 6.]\n",
            "Average of array along axis 1: [2. 5. 8.]\n"
          ]
        }
      ]
    },
    {
      "cell_type": "code",
      "source": [],
      "metadata": {
        "id": "Z-mlBRuCC1Qb"
      },
      "execution_count": null,
      "outputs": []
    }
  ]
}