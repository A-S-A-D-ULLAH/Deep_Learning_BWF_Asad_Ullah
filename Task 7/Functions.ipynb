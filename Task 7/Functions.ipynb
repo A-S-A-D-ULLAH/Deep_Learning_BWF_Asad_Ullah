{
  "nbformat": 4,
  "nbformat_minor": 0,
  "metadata": {
    "colab": {
      "provenance": []
    },
    "kernelspec": {
      "name": "python3",
      "display_name": "Python 3"
    },
    "language_info": {
      "name": "python"
    }
  },
  "cells": [
    {
      "cell_type": "code",
      "execution_count": 1,
      "metadata": {
        "colab": {
          "base_uri": "https://localhost:8080/"
        },
        "id": "bqt4--QcZ2tO",
        "outputId": "548a0b56-a31b-4f74-8eed-9a08b145765e"
      },
      "outputs": [
        {
          "output_type": "stream",
          "name": "stdout",
          "text": [
            "Hello world\n"
          ]
        }
      ],
      "source": [
        "def message():\n",
        "    print(\"Hello world\")\n",
        "message()"
      ]
    },
    {
      "cell_type": "markdown",
      "source": [
        "Parameter"
      ],
      "metadata": {
        "id": "uM9rHi9MaPE1"
      }
    },
    {
      "cell_type": "code",
      "source": [
        "def course_func(name, course_name):\n",
        "    print(\"Hello\", name, \"Welcome\")\n",
        "    print(\"Your course name is\", course_name)\n",
        "\n",
        "course_func('Asad', 'Python')"
      ],
      "metadata": {
        "colab": {
          "base_uri": "https://localhost:8080/"
        },
        "id": "j8dv8scqaQGX",
        "outputId": "dd5adfc8-c076-4701-b40f-e49872267529"
      },
      "execution_count": 3,
      "outputs": [
        {
          "output_type": "stream",
          "name": "stdout",
          "text": [
            "Hello Asad Welcome\n",
            "Your course name is Python\n"
          ]
        }
      ]
    },
    {
      "cell_type": "code",
      "source": [
        "def greet(name):  \n",
        "    print ('Hello ', name)\n",
        "\n",
        "greet('Asad')\n",
        "greet(123)"
      ],
      "metadata": {
        "id": "PlvLRCt9bYEB",
        "outputId": "45cc6868-6911-436a-a565-0421af2642c3",
        "colab": {
          "base_uri": "https://localhost:8080/"
        }
      },
      "execution_count": 6,
      "outputs": [
        {
          "output_type": "stream",
          "name": "stdout",
          "text": [
            "Hello  Asad\n",
            "Hello  123\n"
          ]
        }
      ]
    },
    {
      "cell_type": "markdown",
      "source": [
        "Return"
      ],
      "metadata": {
        "id": "r94ecEzkachv"
      }
    },
    {
      "cell_type": "code",
      "source": [
        "def calculator(a, b):\n",
        "    add = a + b\n",
        "    return add\n",
        "\n",
        "res = calculator(3, 2)\n",
        "\n",
        "print(\"Addition :\", res)"
      ],
      "metadata": {
        "colab": {
          "base_uri": "https://localhost:8080/"
        },
        "id": "O3amSVi7aTdo",
        "outputId": "228d5f98-381e-4ebb-a6a1-03853bfd9ac0"
      },
      "execution_count": 4,
      "outputs": [
        {
          "output_type": "stream",
          "name": "stdout",
          "text": [
            "Addition : 5\n"
          ]
        }
      ]
    },
    {
      "cell_type": "markdown",
      "source": [
        "Calling"
      ],
      "metadata": {
        "id": "x16hTzcGap9t"
      }
    },
    {
      "cell_type": "code",
      "source": [
        "def even_odd(n):\n",
        "    if n % 2 == 0:\n",
        "        print('Even number')\n",
        "    else:\n",
        "        print('Odd Number')\n",
        "\n",
        "even_odd(7)"
      ],
      "metadata": {
        "colab": {
          "base_uri": "https://localhost:8080/"
        },
        "id": "YB0seYS1aloz",
        "outputId": "b8e963a3-6928-42f4-d364-d829a7750b4b"
      },
      "execution_count": 5,
      "outputs": [
        {
          "output_type": "stream",
          "name": "stdout",
          "text": [
            "Odd Number\n"
          ]
        }
      ]
    },
    {
      "cell_type": "markdown",
      "source": [
        "Arguments"
      ],
      "metadata": {
        "id": "PhnsivDdbnTV"
      }
    },
    {
      "cell_type": "code",
      "source": [
        "def myFun(x, y=50):\n",
        "    print(\"x: \", x)\n",
        "    print(\"y: \", y)\n",
        "  \n",
        "\n",
        "myFun(10)"
      ],
      "metadata": {
        "id": "_znxT-_Vaw_w",
        "outputId": "083a104e-2a1b-4dba-9509-38a447662b95",
        "colab": {
          "base_uri": "https://localhost:8080/"
        }
      },
      "execution_count": 7,
      "outputs": [
        {
          "output_type": "stream",
          "name": "stdout",
          "text": [
            "x:  10\n",
            "y:  50\n"
          ]
        }
      ]
    },
    {
      "cell_type": "code",
      "source": [
        "def myFun(*argv):\n",
        "    for arg in argv:\n",
        "        print(arg)\n",
        "  \n",
        "  \n",
        "myFun('Hello', 'Welcome')"
      ],
      "metadata": {
        "id": "TZKcblZLbr5R",
        "outputId": "aeb3de30-015c-4379-b76c-20ce3427a02b",
        "colab": {
          "base_uri": "https://localhost:8080/"
        }
      },
      "execution_count": 8,
      "outputs": [
        {
          "output_type": "stream",
          "name": "stdout",
          "text": [
            "Hello\n",
            "Welcome\n"
          ]
        }
      ]
    },
    {
      "cell_type": "markdown",
      "source": [
        "Docstring"
      ],
      "metadata": {
        "id": "_H9JcfH4b3H9"
      }
    },
    {
      "cell_type": "code",
      "source": [
        "def even_odd(n):\n",
        "    if n % 2 == 0:\n",
        "        print('Even number')\n",
        "    else:\n",
        "        print('Odd Number')\n",
        "\n",
        "print(even_odd.__doc__)"
      ],
      "metadata": {
        "id": "tExROol8bzu6",
        "outputId": "80165b69-88a3-4741-9acd-2951f1752f19",
        "colab": {
          "base_uri": "https://localhost:8080/"
        }
      },
      "execution_count": 12,
      "outputs": [
        {
          "output_type": "stream",
          "name": "stdout",
          "text": [
            "None\n"
          ]
        }
      ]
    },
    {
      "cell_type": "code",
      "source": [],
      "metadata": {
        "id": "aZSPjhY8cVrw"
      },
      "execution_count": null,
      "outputs": []
    }
  ]
}