{
  "nbformat": 4,
  "nbformat_minor": 0,
  "metadata": {
    "colab": {
      "provenance": []
    },
    "kernelspec": {
      "name": "python3",
      "display_name": "Python 3"
    },
    "language_info": {
      "name": "python"
    }
  },
  "cells": [
    {
      "cell_type": "markdown",
      "source": [
        "Classes"
      ],
      "metadata": {
        "id": "AIaPn5xjeUk5"
      }
    },
    {
      "cell_type": "code",
      "source": [
        "class MyClass:\n",
        "  x = 5\n"
      ],
      "metadata": {
        "id": "uQrkITcweW6D"
      },
      "execution_count": 1,
      "outputs": []
    },
    {
      "cell_type": "code",
      "source": [
        "p1 = MyClass()\n",
        "print(p1.x)"
      ],
      "metadata": {
        "colab": {
          "base_uri": "https://localhost:8080/"
        },
        "id": "MY9AvZLCf-pr",
        "outputId": "17d5f4b6-d42b-4b66-e1b4-cf32fe305222"
      },
      "execution_count": 2,
      "outputs": [
        {
          "output_type": "stream",
          "name": "stdout",
          "text": [
            "5\n"
          ]
        }
      ]
    },
    {
      "cell_type": "code",
      "source": [
        "class Person:\n",
        "  def __init__(self, name, age):\n",
        "    self.name = name\n",
        "    self.age = age\n",
        "\n",
        "p1 = Person(\"Asad\", 23)\n",
        "\n",
        "print(p1.name)\n",
        "print(p1.age)"
      ],
      "metadata": {
        "colab": {
          "base_uri": "https://localhost:8080/"
        },
        "id": "vsaPHTlOgCYe",
        "outputId": "ebd93801-6059-44b0-9c04-21c1bed0bca9"
      },
      "execution_count": 3,
      "outputs": [
        {
          "output_type": "stream",
          "name": "stdout",
          "text": [
            "Asad\n",
            "23\n"
          ]
        }
      ]
    },
    {
      "cell_type": "code",
      "source": [
        "class Person:\n",
        "    def __init__(self, name, profession):\n",
        "        self.name = name\n",
        "        self.profession = profession\n",
        "\n",
        "\n",
        "    def show(self):\n",
        "        print('Name:', self.name, 'Profession:', self.profession)\n",
        "\n",
        " \n",
        "    def work(self):\n",
        "        print(self.name, 'working as a', self.profession)\n",
        "\n",
        "\n",
        "new = Person('Asad', 'Software Engineer')\n",
        "\n",
        "\n",
        "new.show()\n",
        "new.work()"
      ],
      "metadata": {
        "colab": {
          "base_uri": "https://localhost:8080/"
        },
        "id": "ZAzvUzBOgSGi",
        "outputId": "ab3bc096-3ce3-4973-833a-00cace7fd4c2"
      },
      "execution_count": 4,
      "outputs": [
        {
          "output_type": "stream",
          "name": "stdout",
          "text": [
            "Name: Asad Profession: Software Engineer\n",
            "Asad working as a Software Engineer\n"
          ]
        }
      ]
    },
    {
      "cell_type": "code",
      "source": [
        "class Fruit:\n",
        "    def __init__(self, name, color):\n",
        "        self.name = name\n",
        "        self.color = color\n",
        "\n",
        "    def show(self):\n",
        "        print(\"Fruit is\", self.name, \"and Color is\", self.color)\n",
        "\n",
        "obj = Fruit(\"Apple\", \"red\")\n",
        "\n",
        "del obj.name\n",
        "\n",
        "#print(obj.name)"
      ],
      "metadata": {
        "id": "izV8H0MngpYZ"
      },
      "execution_count": 6,
      "outputs": []
    },
    {
      "cell_type": "markdown",
      "source": [
        "Inheritance"
      ],
      "metadata": {
        "id": "vXXznqmVhWDM"
      }
    },
    {
      "cell_type": "code",
      "source": [
        "\n",
        "class Person(object):\n",
        "   \n",
        "  def __init__(self, name, id):\n",
        "    self.name = name\n",
        "    self.id = id\n",
        " \n",
        "\n",
        "  def Display(self):\n",
        "    print(self.name, self.id)\n",
        " \n",
        "\n",
        "emp = Person(\"Asad\", 23)\n",
        "emp.Display()"
      ],
      "metadata": {
        "colab": {
          "base_uri": "https://localhost:8080/"
        },
        "id": "N_hqZ_Img6ac",
        "outputId": "1ff5ae82-5817-4412-fcc7-fd50d88d73e0"
      },
      "execution_count": 7,
      "outputs": [
        {
          "output_type": "stream",
          "name": "stdout",
          "text": [
            "Asad 23\n"
          ]
        }
      ]
    },
    {
      "cell_type": "code",
      "source": [
        "class Vehicle:\n",
        "    def Vehicle_info(self):\n",
        "        print('Inside Vehicle class')\n",
        "class Car(Vehicle):\n",
        "    def car_info(self):\n",
        "        print('Inside Car class')\n",
        "car = Car()\n",
        "car.Vehicle_info()\n",
        "car.car_info()"
      ],
      "metadata": {
        "colab": {
          "base_uri": "https://localhost:8080/"
        },
        "id": "-ocNWclJhf4W",
        "outputId": "1ec45d53-c804-4994-bb9f-5b2bd5e7f696"
      },
      "execution_count": 8,
      "outputs": [
        {
          "output_type": "stream",
          "name": "stdout",
          "text": [
            "Inside Vehicle class\n",
            "Inside Car class\n"
          ]
        }
      ]
    },
    {
      "cell_type": "code",
      "source": [
        "class Vehicle:\n",
        "    def Vehicle_info(self):\n",
        "        print('Inside Vehicle class')\n",
        "class Car(Vehicle):\n",
        "    def car_info(self):\n",
        "        print('Inside Car class')\n",
        "\n",
        "class SportsCar(Car):\n",
        "    def sports_car_info(self):\n",
        "        print('Inside SportsCar class')\n",
        "\n",
        "s_car = SportsCar()\n",
        "s_car.Vehicle_info()\n",
        "s_car.car_info()\n",
        "s_car.sports_car_info()"
      ],
      "metadata": {
        "colab": {
          "base_uri": "https://localhost:8080/"
        },
        "id": "4SVnPPZah1a9",
        "outputId": "e9253967-1dd8-4eb8-c004-d695abb48841"
      },
      "execution_count": 9,
      "outputs": [
        {
          "output_type": "stream",
          "name": "stdout",
          "text": [
            "Inside Vehicle class\n",
            "Inside Car class\n",
            "Inside SportsCar class\n"
          ]
        }
      ]
    },
    {
      "cell_type": "code",
      "source": [],
      "metadata": {
        "id": "7BdPaCWviATq"
      },
      "execution_count": null,
      "outputs": []
    }
  ]
}