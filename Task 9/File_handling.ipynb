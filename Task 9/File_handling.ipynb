{
  "nbformat": 4,
  "nbformat_minor": 0,
  "metadata": {
    "colab": {
      "provenance": []
    },
    "kernelspec": {
      "name": "python3",
      "display_name": "Python 3"
    },
    "language_info": {
      "name": "python"
    }
  },
  "cells": [
    {
      "cell_type": "code",
      "execution_count": 2,
      "metadata": {
        "colab": {
          "base_uri": "https://localhost:8080/"
        },
        "id": "Y4oWbm7EXyo9",
        "outputId": "c389cfdd-b7f8-470f-cdff-5c7c03e5c44c"
      },
      "outputs": [
        {
          "output_type": "stream",
          "name": "stdout",
          "text": [
            "Hello My name is asad Ullah\n",
            "I learn \n",
            "Functions \n",
            "Variable \n",
            "Conditions\n",
            "File handling\n"
          ]
        }
      ],
      "source": [
        "with open('Python.txt') as file_object:\n",
        "  contents = file_object.read()\n",
        "  print(contents)"
      ]
    },
    {
      "cell_type": "code",
      "source": [
        "filename = 'Python.txt'\n",
        "with open(filename) as file_object:\n",
        "  for line in file_object:\n",
        "    print(line)"
      ],
      "metadata": {
        "colab": {
          "base_uri": "https://localhost:8080/"
        },
        "id": "a1He6ZjqY_TR",
        "outputId": "8b808b12-fb90-4881-c554-8b6c0bd82248"
      },
      "execution_count": 3,
      "outputs": [
        {
          "output_type": "stream",
          "name": "stdout",
          "text": [
            "Hello My name is asad Ullah\n",
            "\n",
            "I learn \n",
            "\n",
            "Functions \n",
            "\n",
            "Variable \n",
            "\n",
            "Conditions\n",
            "\n",
            "File handling\n"
          ]
        }
      ]
    },
    {
      "cell_type": "code",
      "source": [
        "filename = 'Python.txt'\n",
        "with open(filename) as file_object:\n",
        "  lines = file_object.readlines()\n",
        "  for line in lines:\n",
        "    print(line.rstrip())"
      ],
      "metadata": {
        "colab": {
          "base_uri": "https://localhost:8080/"
        },
        "id": "cK0tjpV7ZSaw",
        "outputId": "eb88764f-8bfc-4476-c02f-1652894b0a9b"
      },
      "execution_count": 4,
      "outputs": [
        {
          "output_type": "stream",
          "name": "stdout",
          "text": [
            "Hello My name is asad Ullah\n",
            "I learn\n",
            "Functions\n",
            "Variable\n",
            "Conditions\n",
            "File handling\n"
          ]
        }
      ]
    },
    {
      "cell_type": "markdown",
      "source": [
        "**Replacing**"
      ],
      "metadata": {
        "id": "VtQOKBTnaZ30"
      }
    },
    {
      "cell_type": "code",
      "source": [
        "with open('Python.txt') as file_object:\n",
        "  contents = file_object.read()\n",
        "  print(contents.replace('Functions','Enumerate Function'))"
      ],
      "metadata": {
        "colab": {
          "base_uri": "https://localhost:8080/"
        },
        "id": "haOyHEXCZeWD",
        "outputId": "82a5aa9f-9575-4bb5-f769-af7a8785d27b"
      },
      "execution_count": 7,
      "outputs": [
        {
          "output_type": "stream",
          "name": "stdout",
          "text": [
            "Hello My name is asad Ullah\n",
            "I learn \n",
            "Enumerate Function \n",
            "Variable \n",
            "Conditions\n",
            "File handling\n"
          ]
        }
      ]
    },
    {
      "cell_type": "markdown",
      "source": [
        "**File Writing**"
      ],
      "metadata": {
        "id": "YKfn7zvRa0ZS"
      }
    },
    {
      "cell_type": "code",
      "source": [
        "filename = 'Python.txt'\n",
        "\n",
        "with open(filename, 'w') as file_object:\n",
        "  name=input('What is your name ')\n",
        "  file_object.write(name)\n",
        "with open('Python.txt') as file_object:\n",
        "  contents = file_object.read()\n",
        "  print(contents)"
      ],
      "metadata": {
        "colab": {
          "base_uri": "https://localhost:8080/"
        },
        "id": "5izchly8aM0E",
        "outputId": "be6662ba-b964-41f8-f7b9-fdb652bd56b3"
      },
      "execution_count": 14,
      "outputs": [
        {
          "output_type": "stream",
          "name": "stdout",
          "text": [
            "What is your name asad\n",
            "asad\n"
          ]
        }
      ]
    },
    {
      "cell_type": "markdown",
      "source": [
        "Try Except Finally"
      ],
      "metadata": {
        "id": "3VjaRfCvdCWK"
      }
    },
    {
      "cell_type": "code",
      "source": [
        "print(\"Give me two numbers, and I'll divide them.\")\n",
        "\n",
        "print(\"Enter 'q' to quit.\")\n",
        "while True:\n",
        "  first_number = input(\"\\nFirst number: \")\n",
        "  if first_number == 'q':\n",
        "    break\n",
        "  second_number = input(\"Second number: \")\n",
        "  if second_number == 'q':\n",
        "    break\n",
        "  answer = int(first_number) / int(second_number)\n",
        "  print(answer)"
      ],
      "metadata": {
        "colab": {
          "base_uri": "https://localhost:8080/"
        },
        "id": "XHJqQ3KIbO9t",
        "outputId": "5b1fd08a-d6bb-4feb-92bc-64d43892973d"
      },
      "execution_count": 15,
      "outputs": [
        {
          "name": "stdout",
          "output_type": "stream",
          "text": [
            "Give me two numbers, and I'll divide them.\n",
            "Enter 'q' to quit.\n",
            "\n",
            "First number: 5\n",
            "Second number: 2\n",
            "2.5\n",
            "\n",
            "First number: q\n"
          ]
        }
      ]
    },
    {
      "cell_type": "code",
      "source": [
        "x = -1\n",
        "\n",
        "if x < 0:\n",
        "  raise Exception(\"Sorry, no numbers below zero\")"
      ],
      "metadata": {
        "colab": {
          "base_uri": "https://localhost:8080/",
          "height": 200
        },
        "id": "mo5PO6Jbcf-L",
        "outputId": "ba89069e-5c98-41e2-d871-c576f8b9dd60"
      },
      "execution_count": 16,
      "outputs": [
        {
          "output_type": "error",
          "ename": "Exception",
          "evalue": "ignored",
          "traceback": [
            "\u001b[0;31m---------------------------------------------------------------------------\u001b[0m",
            "\u001b[0;31mException\u001b[0m                                 Traceback (most recent call last)",
            "\u001b[0;32m<ipython-input-16-2edc57024fbc>\u001b[0m in \u001b[0;36m<module>\u001b[0;34m\u001b[0m\n\u001b[1;32m      2\u001b[0m \u001b[0;34m\u001b[0m\u001b[0m\n\u001b[1;32m      3\u001b[0m \u001b[0;32mif\u001b[0m \u001b[0mx\u001b[0m \u001b[0;34m<\u001b[0m \u001b[0;36m0\u001b[0m\u001b[0;34m:\u001b[0m\u001b[0;34m\u001b[0m\u001b[0;34m\u001b[0m\u001b[0m\n\u001b[0;32m----> 4\u001b[0;31m   \u001b[0;32mraise\u001b[0m \u001b[0mException\u001b[0m\u001b[0;34m(\u001b[0m\u001b[0;34m\"Sorry, no numbers below zero\"\u001b[0m\u001b[0;34m)\u001b[0m\u001b[0;34m\u001b[0m\u001b[0;34m\u001b[0m\u001b[0m\n\u001b[0m",
            "\u001b[0;31mException\u001b[0m: Sorry, no numbers below zero"
          ]
        }
      ]
    },
    {
      "cell_type": "code",
      "source": [
        "try:\n",
        "  f = open(\"Python.txt\")\n",
        "  try:\n",
        "    f.write(\"New adding\")\n",
        "  except:\n",
        "    print(\"Something went wrong when writing to the file\")\n",
        "  finally:\n",
        "    f.close()\n",
        "except:\n",
        "  print(\"Something went wrong when opening the file\")\n"
      ],
      "metadata": {
        "colab": {
          "base_uri": "https://localhost:8080/"
        },
        "id": "IYDntPHBczYp",
        "outputId": "cf2248e2-3c87-48d6-fe4b-a872bbd5941c"
      },
      "execution_count": 17,
      "outputs": [
        {
          "output_type": "stream",
          "name": "stdout",
          "text": [
            "Something went wrong when writing to the file\n"
          ]
        }
      ]
    },
    {
      "cell_type": "code",
      "source": [
        "try:\n",
        "  print(x)\n",
        "except:\n",
        "  print(\"Something went wrong\")\n",
        "finally:\n",
        "  print(\"The 'try except' is finished\")"
      ],
      "metadata": {
        "colab": {
          "base_uri": "https://localhost:8080/"
        },
        "id": "jdKq0jj5c_fj",
        "outputId": "e415a4f6-e4cd-4b73-c4e5-1768703211e4"
      },
      "execution_count": 18,
      "outputs": [
        {
          "output_type": "stream",
          "name": "stdout",
          "text": [
            "-1\n",
            "The 'try except' is finished\n"
          ]
        }
      ]
    },
    {
      "cell_type": "code",
      "source": [],
      "metadata": {
        "id": "0CkvymVGdMgO"
      },
      "execution_count": null,
      "outputs": []
    }
  ]
}