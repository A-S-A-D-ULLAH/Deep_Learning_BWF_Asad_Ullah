{
  "nbformat": 4,
  "nbformat_minor": 0,
  "metadata": {
    "colab": {
      "provenance": []
    },
    "kernelspec": {
      "name": "python3",
      "display_name": "Python 3"
    },
    "language_info": {
      "name": "python"
    }
  },
  "cells": [
    {
      "cell_type": "code",
      "execution_count": 4,
      "metadata": {
        "id": "hs6-fHZYYgDa"
      },
      "outputs": [],
      "source": [
        "import numpy as np\n",
        "import pandas as pd\n",
        "from keras import models\n",
        "from keras import layers\n",
        "from keras.datasets import reuters\n",
        "from keras.datasets import boston_housing\n",
        "import matplotlib.pyplot as plt"
      ]
    },
    {
      "cell_type": "markdown",
      "source": [
        "Loading Dataset"
      ],
      "metadata": {
        "id": "NOHK2niwaBPG"
      }
    },
    {
      "cell_type": "code",
      "source": [
        "(train_data, train_labels), (test_data, test_labels) = reuters.load_data(num_words=10000)"
      ],
      "metadata": {
        "colab": {
          "base_uri": "https://localhost:8080/"
        },
        "id": "wCb0-lM0Y2EX",
        "outputId": "ef4b1213-5537-4550-9a81-c6c09d069040"
      },
      "execution_count": 5,
      "outputs": [
        {
          "output_type": "stream",
          "name": "stdout",
          "text": [
            "Downloading data from https://storage.googleapis.com/tensorflow/tf-keras-datasets/reuters.npz\n",
            "2110848/2110848 [==============================] - 0s 0us/step\n"
          ]
        }
      ]
    },
    {
      "cell_type": "markdown",
      "source": [
        "Check Data size"
      ],
      "metadata": {
        "id": "ZTAB0rLDaDrE"
      }
    },
    {
      "cell_type": "code",
      "source": [
        "len(train_data)\n"
      ],
      "metadata": {
        "colab": {
          "base_uri": "https://localhost:8080/"
        },
        "id": "8WUSJ5NTY79J",
        "outputId": "053ba934-9aed-4b10-a121-f558e70542bd"
      },
      "execution_count": 7,
      "outputs": [
        {
          "output_type": "execute_result",
          "data": {
            "text/plain": [
              "8982"
            ]
          },
          "metadata": {},
          "execution_count": 7
        }
      ]
    },
    {
      "cell_type": "code",
      "source": [
        "len(test_data)"
      ],
      "metadata": {
        "colab": {
          "base_uri": "https://localhost:8080/"
        },
        "id": "S6qoP-lDZR1h",
        "outputId": "7f593344-b90d-48ab-e3fe-8235a225fa06"
      },
      "execution_count": 8,
      "outputs": [
        {
          "output_type": "execute_result",
          "data": {
            "text/plain": [
              "2246"
            ]
          },
          "metadata": {},
          "execution_count": 8
        }
      ]
    },
    {
      "cell_type": "code",
      "source": [
        "word_index = reuters.get_word_index()\n",
        "reverse_word_index = dict([(value, key) for (key, value) in word_index.items()])\n",
        "decoded_newswire = ' '.join([reverse_word_index.get(i - 3, '?') for i in\n",
        "train_data[0]])"
      ],
      "metadata": {
        "colab": {
          "base_uri": "https://localhost:8080/"
        },
        "id": "j62CzdLvZVeY",
        "outputId": "d9340a28-d0ff-4f90-ebf7-0edb9c110d5e"
      },
      "execution_count": 9,
      "outputs": [
        {
          "output_type": "stream",
          "name": "stdout",
          "text": [
            "Downloading data from https://storage.googleapis.com/tensorflow/tf-keras-datasets/reuters_word_index.json\n",
            "550378/550378 [==============================] - 0s 0us/step\n"
          ]
        }
      ]
    },
    {
      "cell_type": "code",
      "source": [
        "def vectorize_sequences(sequences, dimension=10000):\n",
        "  results = np.zeros((len(sequences), dimension))\n",
        "  for i, sequence in enumerate(sequences):\n",
        "    results[i, sequence] = 1.\n",
        "  return results\n",
        "x_train = vectorize_sequences(train_data)\n",
        "x_test = vectorize_sequences(test_data)"
      ],
      "metadata": {
        "id": "r3_EvF_zZZ-E"
      },
      "execution_count": 10,
      "outputs": []
    },
    {
      "cell_type": "code",
      "source": [
        "def to_one_hot(labels, dimension=46):\n",
        "  results = np.zeros((len(labels), dimension))\n",
        "  for i, label in enumerate(labels):\n",
        "    results[i, label] = 1.\n",
        "  return results\n",
        "one_hot_train_labels = to_one_hot(train_labels)\n",
        "one_hot_test_labels = to_one_hot(test_labels)"
      ],
      "metadata": {
        "id": "kfqybd5-Zk4a"
      },
      "execution_count": 11,
      "outputs": []
    },
    {
      "cell_type": "markdown",
      "source": [
        "Model Creating"
      ],
      "metadata": {
        "id": "1nnhxqYBaHWU"
      }
    },
    {
      "cell_type": "code",
      "source": [
        "model = models.Sequential()\n",
        "model.add(layers.Dense(64, activation='relu', input_shape=(10000,)))\n",
        "model.add(layers.Dense(64, activation='relu'))\n",
        "model.add(layers.Dense(46, activation='softmax'))"
      ],
      "metadata": {
        "id": "RYV_yLmGZsIC"
      },
      "execution_count": 12,
      "outputs": []
    },
    {
      "cell_type": "code",
      "source": [
        "model.compile(optimizer='rmsprop',\n",
        "\n",
        "loss='categorical_crossentropy',\n",
        "metrics=['accuracy'])"
      ],
      "metadata": {
        "id": "Uupk_PuSZu7U"
      },
      "execution_count": 13,
      "outputs": []
    },
    {
      "cell_type": "code",
      "source": [
        "x_val = x_train[:1000]\n",
        "partial_x_train = x_train[1000:]\n",
        "y_val = one_hot_train_labels[:1000]\n",
        "partial_y_train = one_hot_train_labels[1000:]"
      ],
      "metadata": {
        "id": "bSUjbtcSZx-w"
      },
      "execution_count": 14,
      "outputs": []
    },
    {
      "cell_type": "markdown",
      "source": [
        "Model Fit"
      ],
      "metadata": {
        "id": "sJoaOHISaLTd"
      }
    },
    {
      "cell_type": "code",
      "source": [
        "history = model.fit(partial_x_train,\n",
        "partial_y_train,\n",
        "epochs=20,\n",
        "batch_size=512,\n",
        "validation_data=(x_val, y_val))"
      ],
      "metadata": {
        "colab": {
          "base_uri": "https://localhost:8080/"
        },
        "id": "JhYPrsGuZ0RM",
        "outputId": "4b1b2fda-33bb-4ea4-be00-24c44d282a83"
      },
      "execution_count": 15,
      "outputs": [
        {
          "output_type": "stream",
          "name": "stdout",
          "text": [
            "Epoch 1/20\n",
            "16/16 [==============================] - 2s 77ms/step - loss: 2.8353 - accuracy: 0.4565 - val_loss: 1.9103 - val_accuracy: 0.6110\n",
            "Epoch 2/20\n",
            "16/16 [==============================] - 1s 60ms/step - loss: 1.5731 - accuracy: 0.6750 - val_loss: 1.3701 - val_accuracy: 0.7000\n",
            "Epoch 3/20\n",
            "16/16 [==============================] - 1s 69ms/step - loss: 1.1775 - accuracy: 0.7468 - val_loss: 1.1630 - val_accuracy: 0.7410\n",
            "Epoch 4/20\n",
            "16/16 [==============================] - 1s 69ms/step - loss: 0.9509 - accuracy: 0.7907 - val_loss: 1.0769 - val_accuracy: 0.7590\n",
            "Epoch 5/20\n",
            "16/16 [==============================] - 1s 65ms/step - loss: 0.7819 - accuracy: 0.8315 - val_loss: 0.9750 - val_accuracy: 0.7900\n",
            "Epoch 6/20\n",
            "16/16 [==============================] - 1s 51ms/step - loss: 0.6489 - accuracy: 0.8634 - val_loss: 0.9248 - val_accuracy: 0.7990\n",
            "Epoch 7/20\n",
            "16/16 [==============================] - 1s 53ms/step - loss: 0.5397 - accuracy: 0.8860 - val_loss: 0.8976 - val_accuracy: 0.8040\n",
            "Epoch 8/20\n",
            "16/16 [==============================] - 1s 54ms/step - loss: 0.4512 - accuracy: 0.9048 - val_loss: 0.8614 - val_accuracy: 0.8140\n",
            "Epoch 9/20\n",
            "16/16 [==============================] - 2s 108ms/step - loss: 0.3835 - accuracy: 0.9193 - val_loss: 0.8641 - val_accuracy: 0.8190\n",
            "Epoch 10/20\n",
            "16/16 [==============================] - 3s 157ms/step - loss: 0.3249 - accuracy: 0.9308 - val_loss: 0.8750 - val_accuracy: 0.8070\n",
            "Epoch 11/20\n",
            "16/16 [==============================] - 2s 109ms/step - loss: 0.2845 - accuracy: 0.9382 - val_loss: 0.8502 - val_accuracy: 0.8150\n",
            "Epoch 12/20\n",
            "16/16 [==============================] - 2s 104ms/step - loss: 0.2482 - accuracy: 0.9437 - val_loss: 0.8749 - val_accuracy: 0.8200\n",
            "Epoch 13/20\n",
            "16/16 [==============================] - 2s 106ms/step - loss: 0.2184 - accuracy: 0.9485 - val_loss: 0.8656 - val_accuracy: 0.8220\n",
            "Epoch 14/20\n",
            "16/16 [==============================] - 2s 115ms/step - loss: 0.1955 - accuracy: 0.9516 - val_loss: 0.9109 - val_accuracy: 0.8150\n",
            "Epoch 15/20\n",
            "16/16 [==============================] - 1s 93ms/step - loss: 0.1802 - accuracy: 0.9513 - val_loss: 0.9148 - val_accuracy: 0.8110\n",
            "Epoch 16/20\n",
            "16/16 [==============================] - 1s 51ms/step - loss: 0.1715 - accuracy: 0.9543 - val_loss: 0.9180 - val_accuracy: 0.8130\n",
            "Epoch 17/20\n",
            "16/16 [==============================] - 1s 78ms/step - loss: 0.1546 - accuracy: 0.9550 - val_loss: 0.9514 - val_accuracy: 0.8000\n",
            "Epoch 18/20\n",
            "16/16 [==============================] - 2s 96ms/step - loss: 0.1469 - accuracy: 0.9564 - val_loss: 0.9348 - val_accuracy: 0.8150\n",
            "Epoch 19/20\n",
            "16/16 [==============================] - 1s 71ms/step - loss: 0.1403 - accuracy: 0.9558 - val_loss: 0.9270 - val_accuracy: 0.8120\n",
            "Epoch 20/20\n",
            "16/16 [==============================] - 1s 53ms/step - loss: 0.1346 - accuracy: 0.9569 - val_loss: 0.9553 - val_accuracy: 0.8140\n"
          ]
        }
      ]
    },
    {
      "cell_type": "markdown",
      "source": [
        "Result Ploting"
      ],
      "metadata": {
        "id": "1xQHFayLaNy1"
      }
    },
    {
      "cell_type": "code",
      "source": [
        "import matplotlib.pyplot as plt\n",
        "loss = history.history['loss']\n",
        "val_loss = history.history['val_loss']\n",
        "epochs = range(1, len(loss) + 1)\n",
        "plt.plot(epochs, loss, 'bo', label='Training loss')\n",
        "plt.plot(epochs, val_loss, 'b', label='Validation loss')\n",
        "plt.title('Training and validation loss')\n",
        "plt.xlabel('Epochs')\n",
        "plt.ylabel('Loss')\n",
        "plt.legend()\n",
        "plt.show()"
      ],
      "metadata": {
        "colab": {
          "base_uri": "https://localhost:8080/",
          "height": 472
        },
        "id": "1243KEuXZ2a6",
        "outputId": "a12b262b-17e5-46eb-ad28-002949c41de2"
      },
      "execution_count": 16,
      "outputs": [
        {
          "output_type": "display_data",
          "data": {
            "text/plain": [
              "<Figure size 640x480 with 1 Axes>"
            ],
            "image/png": "[encoded data removed]"
          },
          "metadata": {}
        }
      ]
    },
    {
      "cell_type": "code",
      "source": [],
      "metadata": {
        "id": "lnmg1oF2Z5s6"
      },
      "execution_count": null,
      "outputs": []
    }
  ]
}