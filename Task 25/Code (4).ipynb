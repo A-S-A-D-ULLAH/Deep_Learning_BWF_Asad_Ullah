{
  "nbformat": 4,
  "nbformat_minor": 0,
  "metadata": {
    "colab": {
      "provenance": []
    },
    "kernelspec": {
      "name": "python3",
      "display_name": "Python 3"
    },
    "language_info": {
      "name": "python"
    }
  },
  "cells": [
    {
      "cell_type": "code",
      "execution_count": 12,
      "metadata": {
        "colab": {
          "base_uri": "https://localhost:8080/",
          "height": 472
        },
        "id": "ZrnZiEvU9N9I",
        "outputId": "1f55917f-bf72-44eb-a662-621097566976"
      },
      "outputs": [
        {
          "output_type": "display_data",
          "data": {
            "text/plain": [
              "<Figure size 640x480 with 1 Axes>"
            ],
            "image/png": "[encoded data removed]"
          },
          "metadata": {}
        }
      ],
      "source": [
        "import numpy as np\n",
        "from sklearn.datasets import make_classification\n",
        "from sklearn.model_selection import train_test_split\n",
        "from sklearn.linear_model import LogisticRegression\n",
        "from sklearn.metrics import accuracy_score\n",
        "from sklearn.linear_model import LinearRegression\n",
        "\n",
        "# Generate nonlinear data\n",
        "X = np.linspace(-10, 10, 100).reshape(-1, 1)\n",
        "y = X**2 + np.random.normal(0, 10, size=(100, 1))\n",
        "\n",
        "# Fit a linear regression model\n",
        "model = LinearRegression()\n",
        "model.fit(X, y)\n",
        "\n",
        "# Plot the data and the linear model\n",
        "import matplotlib.pyplot as plt\n",
        "plt.scatter(X, y)\n",
        "plt.plot(X, model.predict(X), color='red')\n",
        "plt.xlabel('X')\n",
        "plt.ylabel('y')\n",
        "plt.title('Underfitting Example')\n",
        "plt.show()"
      ]
    },
    {
      "cell_type": "code",
      "source": [
        "# Generate synthetic classification data\n",
        "np.random.seed(42)\n",
        "X, y = make_classification(n_samples=1000, n_features=10, random_state=42)\n"
      ],
      "metadata": {
        "id": "1w8hMFh3-kC4"
      },
      "execution_count": 13,
      "outputs": []
    },
    {
      "cell_type": "code",
      "source": [
        "# Split the data into training and test sets\n",
        "X_train, X_test, y_train, y_test = train_test_split(X, y, test_size=0.2, random_state=42)\n"
      ],
      "metadata": {
        "id": "9F5-StvP_FW9"
      },
      "execution_count": 14,
      "outputs": []
    },
    {
      "cell_type": "code",
      "source": [
        "# Train a logistic regression model without regularization\n",
        "model_underfit = LogisticRegression(penalty='none', solver='lbfgs', random_state=42)\n",
        "model_underfit.fit(X_train, y_train)\n",
        "\n",
        "# Evaluate the underfit model\n",
        "y_pred_underfit = model_underfit.predict(X_test)\n",
        "accuracy_underfit = accuracy_score(y_test, y_pred_underfit)\n",
        "print(\"Underfit model accuracy:\", accuracy_underfit)\n"
      ],
      "metadata": {
        "colab": {
          "base_uri": "https://localhost:8080/"
        },
        "id": "aeFjojI6_HoZ",
        "outputId": "b09494b8-a58b-48f2-999b-206c29707428"
      },
      "execution_count": 15,
      "outputs": [
        {
          "output_type": "stream",
          "name": "stdout",
          "text": [
            "Underfit model accuracy: 0.825\n"
          ]
        },
        {
          "output_type": "stream",
          "name": "stderr",
          "text": [
            "/usr/local/lib/python3.10/dist-packages/sklearn/linear_model/_logistic.py:1173: FutureWarning: `penalty='none'`has been deprecated in 1.2 and will be removed in 1.4. To keep the past behaviour, set `penalty=None`.\n",
            "  warnings.warn(\n"
          ]
        }
      ]
    },
    {
      "cell_type": "code",
      "source": [
        "# Train a logistic regression model with high regularization strength\n",
        "model_overfit = LogisticRegression(C=0.001, solver='lbfgs', random_state=42)\n",
        "model_overfit.fit(X_train, y_train)\n",
        "\n",
        "# Evaluate the overfit model\n",
        "y_pred_overfit = model_overfit.predict(X_test)\n",
        "accuracy_overfit = accuracy_score(y_test, y_pred_overfit)\n",
        "print(\"Overfit model accuracy:\", accuracy_overfit)\n"
      ],
      "metadata": {
        "colab": {
          "base_uri": "https://localhost:8080/"
        },
        "id": "n_bVN1oG_JiK",
        "outputId": "f0290612-ffd8-4f98-ef7b-92fcb014c22b"
      },
      "execution_count": 16,
      "outputs": [
        {
          "output_type": "stream",
          "name": "stdout",
          "text": [
            "Overfit model accuracy: 0.835\n"
          ]
        }
      ]
    },
    {
      "cell_type": "code",
      "source": [
        "# Train a logistic regression model with regularization\n",
        "model_regularized = LogisticRegression(C=1.0, solver='lbfgs', random_state=42)\n",
        "model_regularized.fit(X_train, y_train)\n",
        "\n",
        "# Evaluate the regularized model\n",
        "y_pred_regularized = model_regularized.predict(X_test)\n",
        "accuracy_regularized = accuracy_score(y_test, y_pred_regularized)\n",
        "print(\"Regularized model accuracy:\", accuracy_regularized)\n"
      ],
      "metadata": {
        "colab": {
          "base_uri": "https://localhost:8080/"
        },
        "id": "nraUgaN1_Ni6",
        "outputId": "46cfb683-3b74-421c-85af-5bfaf7c65f94"
      },
      "execution_count": 17,
      "outputs": [
        {
          "output_type": "stream",
          "name": "stdout",
          "text": [
            "Regularized model accuracy: 0.83\n"
          ]
        }
      ]
    },
    {
      "cell_type": "code",
      "source": [],
      "metadata": {
        "id": "-ijXdWcg_QLd"
      },
      "execution_count": null,
      "outputs": []
    }
  ]
}