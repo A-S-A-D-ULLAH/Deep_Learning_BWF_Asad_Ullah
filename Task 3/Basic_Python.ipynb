{
  "nbformat": 4,
  "nbformat_minor": 0,
  "metadata": {
    "colab": {
      "provenance": []
    },
    "kernelspec": {
      "name": "python3",
      "display_name": "Python 3"
    },
    "language_info": {
      "name": "python"
    }
  },
  "cells": [
    {
      "cell_type": "markdown",
      "source": [
        "**Variables**"
      ],
      "metadata": {
        "id": "4VQ4SpngchO4"
      }
    },
    {
      "cell_type": "markdown",
      "source": [
        "2.1 Simple Message 1 "
      ],
      "metadata": {
        "id": "BBGyrECjdFWE"
      }
    },
    {
      "cell_type": "code",
      "source": [
        "a = \"Hello world\"\n",
        "print(a)"
      ],
      "metadata": {
        "colab": {
          "base_uri": "https://localhost:8080/"
        },
        "id": "8rFSKtsBcngG",
        "outputId": "0461dc3e-a2c2-4bba-86f2-e65669bdb1b1"
      },
      "execution_count": 1,
      "outputs": [
        {
          "output_type": "stream",
          "name": "stdout",
          "text": [
            "Hello world\n"
          ]
        }
      ]
    },
    {
      "cell_type": "markdown",
      "source": [
        "2.2 Simple Message 2 "
      ],
      "metadata": {
        "id": "tIuQ6LQhdAC1"
      }
    },
    {
      "cell_type": "code",
      "source": [
        "b=\"Hello world\"\n",
        "print(b)\n",
        "b=\"Hello Bytewise\"\n",
        "print(b)"
      ],
      "metadata": {
        "colab": {
          "base_uri": "https://localhost:8080/"
        },
        "id": "YPi2gLzIc_Tl",
        "outputId": "fd3f9314-8cac-4d1a-b8e3-23e596b45006"
      },
      "execution_count": 2,
      "outputs": [
        {
          "output_type": "stream",
          "name": "stdout",
          "text": [
            "Hello world\n",
            "Hello Bytewise\n"
          ]
        }
      ]
    },
    {
      "cell_type": "markdown",
      "source": [
        "2.3 Personal Message"
      ],
      "metadata": {
        "id": "xVRfpiSKd_tk"
      }
    },
    {
      "cell_type": "code",
      "source": [
        "x = \"Asad\"\n",
        "print(\"Hello! \"+ x + \", whould you like to learn some python today?\")"
      ],
      "metadata": {
        "colab": {
          "base_uri": "https://localhost:8080/"
        },
        "id": "y1PasNUoeEL0",
        "outputId": "1dcfc334-a724-46f8-b460-69a249836f0b"
      },
      "execution_count": 4,
      "outputs": [
        {
          "output_type": "stream",
          "name": "stdout",
          "text": [
            "Hello! Asad, whould you like to learn some python today?\n"
          ]
        }
      ]
    },
    {
      "cell_type": "markdown",
      "source": [
        "2.4 Name cases"
      ],
      "metadata": {
        "id": "Fa2y4MfzeEmz"
      }
    },
    {
      "cell_type": "code",
      "source": [
        "y=\"Asad Ullah\"\n",
        "print(y.upper())\n",
        "print(y.lower())\n",
        "print(y.title())"
      ],
      "metadata": {
        "colab": {
          "base_uri": "https://localhost:8080/"
        },
        "id": "OaJLAyDYeE7z",
        "outputId": "914dc84c-7dc3-492b-b925-6acc6a76f257"
      },
      "execution_count": 7,
      "outputs": [
        {
          "output_type": "stream",
          "name": "stdout",
          "text": [
            "ASAD ULLAH\n",
            "asad ullah\n",
            "Asad Ullah\n"
          ]
        }
      ]
    },
    {
      "cell_type": "markdown",
      "source": [
        "2.5 Famous Quote"
      ],
      "metadata": {
        "id": "Wh3Qew_deFI0"
      }
    },
    {
      "cell_type": "code",
      "source": [
        "\n",
        "print('Oscar Wilde' + ' once said, \"Be yourself, Everyone else is taken.\"')"
      ],
      "metadata": {
        "colab": {
          "base_uri": "https://localhost:8080/"
        },
        "id": "uzB1MAl1eFRz",
        "outputId": "699a95b7-96b8-412d-f123-32c6ae6ded88"
      },
      "execution_count": 22,
      "outputs": [
        {
          "output_type": "stream",
          "name": "stdout",
          "text": [
            "Oscar Wilde once said, \"Be yourself, Everyone else is taken.\"\n"
          ]
        }
      ]
    },
    {
      "cell_type": "markdown",
      "source": [
        "2.6 Famous Quote 2"
      ],
      "metadata": {
        "id": "6UaBVlPLeFfL"
      }
    },
    {
      "cell_type": "code",
      "source": [
        "famous_person= \"Oscar Wilde\"\n",
        "Message=famous_person+' once said, \"Be yourself, Everyone else is taken.\"'\n",
        "print(Message)"
      ],
      "metadata": {
        "colab": {
          "base_uri": "https://localhost:8080/"
        },
        "id": "NSf1uegTeFn7",
        "outputId": "371c5a23-e55f-404b-9546-bf4ff375311c"
      },
      "execution_count": 24,
      "outputs": [
        {
          "output_type": "stream",
          "name": "stdout",
          "text": [
            "Oscar Wilde once said, \"Be yourself, Everyone else is taken.\"\n"
          ]
        }
      ]
    },
    {
      "cell_type": "markdown",
      "source": [
        "2.7 String Names"
      ],
      "metadata": {
        "id": "fVUlU6aAiOLe"
      }
    },
    {
      "cell_type": "code",
      "source": [
        "name=\"      A s a d  \"\n",
        "print(name)\n",
        "print(name.lstrip())\n",
        "print(name.rstrip())\n",
        "print(name.strip())"
      ],
      "metadata": {
        "colab": {
          "base_uri": "https://localhost:8080/"
        },
        "id": "egRqUWyKiOet",
        "outputId": "9f9d8d4d-6631-489d-af6f-a272dcd0ddcf"
      },
      "execution_count": 41,
      "outputs": [
        {
          "output_type": "stream",
          "name": "stdout",
          "text": [
            "      A s a d  \n",
            "A s a d  \n",
            "      A s a d\n",
            "A s a d\n"
          ]
        }
      ]
    },
    {
      "cell_type": "markdown",
      "source": [
        "2.8 Number Eight"
      ],
      "metadata": {
        "id": "JhNBAW8ZiOsV"
      }
    },
    {
      "cell_type": "code",
      "source": [
        "print(5+3)\n",
        "print(10-2)\n",
        "print(2*4)\n",
        "print(16/2)"
      ],
      "metadata": {
        "colab": {
          "base_uri": "https://localhost:8080/"
        },
        "id": "vl8v4bQ-iO29",
        "outputId": "36c3545f-a936-427d-82a1-e9fb0b5aaa27"
      },
      "execution_count": 42,
      "outputs": [
        {
          "output_type": "stream",
          "name": "stdout",
          "text": [
            "8\n",
            "8\n",
            "8\n",
            "8.0\n"
          ]
        }
      ]
    },
    {
      "cell_type": "markdown",
      "source": [
        "2.9 Favoriate Number "
      ],
      "metadata": {
        "id": "nu88zqS1iPEe"
      }
    },
    {
      "cell_type": "code",
      "source": [
        "Favorite_number='4'\n",
        "print(\"My favorite number is \" + Favorite_number)"
      ],
      "metadata": {
        "id": "wUpI5WEwiPN2"
      },
      "execution_count": null,
      "outputs": []
    },
    {
      "cell_type": "markdown",
      "source": [
        "2.10 adding comments"
      ],
      "metadata": {
        "id": "9BkWP_TEk2q8"
      }
    },
    {
      "cell_type": "code",
      "source": [
        "Favorite_number='4'       #This program display my favorite number\n",
        "print(\"My favorite number is \" + Favorite_number)"
      ],
      "metadata": {
        "colab": {
          "base_uri": "https://localhost:8080/"
        },
        "id": "sri1zqEOk3GS",
        "outputId": "fa674537-3c1f-4c79-e72f-103ec2c55816"
      },
      "execution_count": 47,
      "outputs": [
        {
          "output_type": "stream",
          "name": "stdout",
          "text": [
            "My favorite number is 4\n"
          ]
        }
      ]
    }
  ]
}