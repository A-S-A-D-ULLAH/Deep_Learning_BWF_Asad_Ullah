{
  "nbformat": 4,
  "nbformat_minor": 0,
  "metadata": {
    "colab": {
      "provenance": []
    },
    "kernelspec": {
      "name": "python3",
      "display_name": "Python 3"
    },
    "language_info": {
      "name": "python"
    }
  },
  "cells": [
    {
      "cell_type": "markdown",
      "source": [
        "**User Input**"
      ],
      "metadata": {
        "id": "ysqWQU506yME"
      }
    },
    {
      "cell_type": "code",
      "source": [
        "car=input(\"Which type of rental car whould you like \")\n",
        "print(\"Let me see if I found a \" + car)"
      ],
      "metadata": {
        "colab": {
          "base_uri": "https://localhost:8080/"
        },
        "id": "riQT6dLX6yoU",
        "outputId": "45ff3579-25f4-4897-fd7a-adc87dc23d59"
      },
      "execution_count": 3,
      "outputs": [
        {
          "output_type": "stream",
          "name": "stdout",
          "text": [
            "Which type of rental car whould you like toyota\n",
            "Let me see if I found a toyota\n"
          ]
        }
      ]
    },
    {
      "cell_type": "code",
      "source": [
        "Dinner = input(\"How many people are you \")\n",
        "Dinner=int(Dinner) \n",
        "if Dinner>=8:\n",
        "  print(\"They will wait for a Table\")\n",
        "else:\n",
        "  print(\"Table is ready\")"
      ],
      "metadata": {
        "colab": {
          "base_uri": "https://localhost:8080/"
        },
        "id": "3BRWCEYP7XNk",
        "outputId": "474bdad8-78ba-4108-8882-283dce9f1dd6"
      },
      "execution_count": 8,
      "outputs": [
        {
          "output_type": "stream",
          "name": "stdout",
          "text": [
            "How many people are you 8\n",
            "They will wait for a Table\n"
          ]
        }
      ]
    },
    {
      "cell_type": "markdown",
      "source": [
        "While Loops"
      ],
      "metadata": {
        "id": "37kpLW956ywE"
      }
    },
    {
      "cell_type": "code",
      "source": [
        "prompt= \"\\n Tell me somthing \"\n",
        "prompt += \"\\n press 'Quit' to end the proqram \"\n",
        "message= ''\n",
        "while True:\n",
        "  city = input(prompt)\n",
        "  if city=='quit':\n",
        "    break\n",
        "  else:\n",
        "    print('I love to go '+ city)"
      ],
      "metadata": {
        "colab": {
          "base_uri": "https://localhost:8080/"
        },
        "id": "WEsEux856y3e",
        "outputId": "8a6634a5-608c-41e5-be4b-ad3642a9cb92"
      },
      "execution_count": 12,
      "outputs": [
        {
          "name": "stdout",
          "output_type": "stream",
          "text": [
            "\n",
            " Tell me somthing \n",
            " press 'Quit' to end the proqram paris\n",
            "I love to go paris\n",
            "\n",
            " Tell me somthing \n",
            " press 'Quit' to end the proqram quit\n"
          ]
        }
      ]
    },
    {
      "cell_type": "code",
      "source": [
        "teater=\"\\nTell me your age \"\n",
        "teater+=\"\\npress '0' to end the program \"\n",
        "\n",
        "while True:\n",
        "  age=input(teater)\n",
        "  age=int(age)\n",
        "  if age==0:\n",
        "    break\n",
        "  if age>=13:\n",
        "    print(\"15$\")\n",
        "  if age >=3 and age<13:\n",
        "    print(\"10$\")\n",
        "  if age>0 and age<2:\n",
        "    print(\"5$\")"
      ],
      "metadata": {
        "colab": {
          "base_uri": "https://localhost:8080/"
        },
        "id": "3iAgVSOK8W6n",
        "outputId": "c5ae71eb-b19c-4fe6-b799-81728acc9066"
      },
      "execution_count": 22,
      "outputs": [
        {
          "name": "stdout",
          "output_type": "stream",
          "text": [
            "\n",
            "Tell me your age \n",
            "press '0' to end the program 13\n",
            "15$\n",
            "\n",
            "Tell me your age \n",
            "press '0' to end the program 4\n",
            "10$\n",
            "\n",
            "Tell me your age \n",
            "press '0' to end the program 1\n",
            "5$\n",
            "\n",
            "Tell me your age \n",
            "press '0' to end the program 0\n"
          ]
        }
      ]
    },
    {
      "cell_type": "markdown",
      "source": [
        "**Functions**"
      ],
      "metadata": {
        "id": "4l_G3mWy6y-M"
      }
    },
    {
      "cell_type": "code",
      "source": [
        "def book(book_name):\n",
        "  print(\"My favoriate Book name is \"+ book_name)\n",
        "\n",
        "\n",
        "book(\"7 Wonders\")"
      ],
      "metadata": {
        "colab": {
          "base_uri": "https://localhost:8080/"
        },
        "id": "4hswHgzf6zFU",
        "outputId": "ca497c01-1b45-4b43-a735-e25ac19bee7f"
      },
      "execution_count": 23,
      "outputs": [
        {
          "output_type": "stream",
          "name": "stdout",
          "text": [
            "My favoriate Book name is 7 Wonders\n"
          ]
        }
      ]
    },
    {
      "cell_type": "code",
      "source": [
        "%%time\n",
        "def city(city_name):\n",
        "  message=\"Hello \" +city_name\n",
        "  return message\n",
        "\n",
        "Name=city(\"Lahore\")\n",
        "print(Name)"
      ],
      "metadata": {
        "colab": {
          "base_uri": "https://localhost:8080/"
        },
        "id": "TV0495-3CWUt",
        "outputId": "a6e8d2b4-81c3-4849-89de-f528e09dd46a"
      },
      "execution_count": 39,
      "outputs": [
        {
          "output_type": "stream",
          "name": "stdout",
          "text": [
            "Hello Lahore\n",
            "CPU times: user 130 µs, sys: 0 ns, total: 130 µs\n",
            "Wall time: 122 µs\n"
          ]
        }
      ]
    },
    {
      "cell_type": "code",
      "source": [
        "def magician_list(xyz):\n",
        "  for i in xyz:\n",
        "    print(i)\n",
        "\n",
        "magicianList=['A','B','C','D']\n",
        "magician_list(magicianList)"
      ],
      "metadata": {
        "colab": {
          "base_uri": "https://localhost:8080/"
        },
        "id": "Omf54FU5CWjA",
        "outputId": "f5006124-7c5e-46b2-8303-de54a433bb45"
      },
      "execution_count": 25,
      "outputs": [
        {
          "output_type": "stream",
          "name": "stdout",
          "text": [
            "A\n",
            "B\n",
            "C\n",
            "D\n"
          ]
        }
      ]
    },
    {
      "cell_type": "code",
      "source": [
        "def new(xyz):\n",
        "  for i in xyz:\n",
        "    print(\"Great \"+ i)\n",
        "new(magicianList)"
      ],
      "metadata": {
        "colab": {
          "base_uri": "https://localhost:8080/"
        },
        "id": "t7R3Vs2aEjin",
        "outputId": "aebf93da-38fe-4882-f521-17144ee9184c"
      },
      "execution_count": 26,
      "outputs": [
        {
          "output_type": "stream",
          "name": "stdout",
          "text": [
            "Great A\n",
            "Great B\n",
            "Great C\n",
            "Great D\n"
          ]
        }
      ]
    },
    {
      "cell_type": "markdown",
      "source": [
        "Union"
      ],
      "metadata": {
        "id": "CZJ4RgUF6zL8"
      }
    },
    {
      "cell_type": "code",
      "source": [
        "A={'Asad',2,'usman',3,'Ejaz',10,'Zeshan',11}\n",
        "B={'Zeshan',2,'Asad',3,'Imran',5,'riaz',6}\n",
        "\n",
        "print(A|B)"
      ],
      "metadata": {
        "colab": {
          "base_uri": "https://localhost:8080/"
        },
        "id": "qmXJ3-NZ6zR8",
        "outputId": "27cbf1ab-5989-4225-cecb-b03a39092edd"
      },
      "execution_count": 30,
      "outputs": [
        {
          "output_type": "stream",
          "name": "stdout",
          "text": [
            "{2, 3, 5, 6, 'usman', 10, 11, 'Imran', 'Asad', 'Zeshan', 'Ejaz', 'riaz'}\n"
          ]
        }
      ]
    },
    {
      "cell_type": "markdown",
      "source": [
        "**Intersection**"
      ],
      "metadata": {
        "id": "sbIejSEN6wku"
      }
    },
    {
      "cell_type": "code",
      "source": [
        "A={'Asad',2,'usman',3,'Ejaz',10,'Zeshan',11}\n",
        "B={'Zeshan',2,'Asad',3,'Imran',5,'riaz',6}\n",
        "\n",
        "print(A&B)"
      ],
      "metadata": {
        "colab": {
          "base_uri": "https://localhost:8080/"
        },
        "id": "a2Hw9-uq6w9s",
        "outputId": "0a76c092-f438-4d8f-b001-e450a2c1e407"
      },
      "execution_count": 31,
      "outputs": [
        {
          "output_type": "stream",
          "name": "stdout",
          "text": [
            "{2, 3, 'Asad', 'Zeshan'}\n"
          ]
        }
      ]
    },
    {
      "cell_type": "markdown",
      "source": [
        "Difference"
      ],
      "metadata": {
        "id": "LI0Uk_vq6xFU"
      }
    },
    {
      "cell_type": "code",
      "source": [
        "A={'Asad',2,'usman',3,'Ejaz',10,'Zeshan',11}\n",
        "B={'Zeshan',2,'Asad',3,'Imran',5,'riaz',6}\n",
        "\n",
        "print(A-B)\n",
        "print(B-A)"
      ],
      "metadata": {
        "colab": {
          "base_uri": "https://localhost:8080/"
        },
        "id": "pIeDmd996xNO",
        "outputId": "7abfd2a8-c68e-4bc3-c834-04ef4fb4b594"
      },
      "execution_count": 33,
      "outputs": [
        {
          "output_type": "stream",
          "name": "stdout",
          "text": [
            "{10, 11, 'Ejaz', 'usman'}\n",
            "{'Imran', 5, 6, 'riaz'}\n"
          ]
        }
      ]
    },
    {
      "cell_type": "markdown",
      "source": [
        "Symentric Difference"
      ],
      "metadata": {
        "id": "fuu3VzHX6xXM"
      }
    },
    {
      "cell_type": "code",
      "source": [
        "%%time\n",
        "A={'Asad',2,'usman',3,'Ejaz',10,'Zeshan',11}\n",
        "B={'Zeshan',2,'Asad',3,'Imran',5,'riaz',6}\n",
        "\n",
        "print(A^B)"
      ],
      "metadata": {
        "colab": {
          "base_uri": "https://localhost:8080/"
        },
        "id": "R5KpW0N26xeE",
        "outputId": "12229ea5-d783-4b99-b469-d39ebfc18bcd"
      },
      "execution_count": 38,
      "outputs": [
        {
          "output_type": "stream",
          "name": "stdout",
          "text": [
            "{5, 6, 'usman', 10, 11, 'Imran', 'Ejaz', 'riaz'}\n",
            "CPU times: user 495 µs, sys: 0 ns, total: 495 µs\n",
            "Wall time: 441 µs\n"
          ]
        }
      ]
    },
    {
      "cell_type": "markdown",
      "source": [
        "Enumerate"
      ],
      "metadata": {
        "id": "GHWk9T34K5NE"
      }
    },
    {
      "cell_type": "code",
      "source": [
        "%%time\n",
        "Weekdays=['Monday','Tuesday','Wednesday','Thursday','Friday','Saturday','Sunday']\n",
        "\n",
        "for i, j in enumerate(Weekdays,1):\n",
        "  print(f\"{i}: {j}\")\n"
      ],
      "metadata": {
        "colab": {
          "base_uri": "https://localhost:8080/"
        },
        "id": "neNKJyGQKUui",
        "outputId": "8265fab4-7ed7-4f4e-adea-d2c4d6036da4"
      },
      "execution_count": 37,
      "outputs": [
        {
          "output_type": "stream",
          "name": "stdout",
          "text": [
            "1: Monday\n",
            "2: Tuesday\n",
            "3: Wednesday\n",
            "4: Thursday\n",
            "5: Friday\n",
            "6: Saturday\n",
            "7: Sunday\n",
            "CPU times: user 1.21 ms, sys: 16 µs, total: 1.23 ms\n",
            "Wall time: 994 µs\n"
          ]
        }
      ]
    },
    {
      "cell_type": "code",
      "source": [],
      "metadata": {
        "id": "COpSPeUELlhL"
      },
      "execution_count": null,
      "outputs": []
    }
  ]
}