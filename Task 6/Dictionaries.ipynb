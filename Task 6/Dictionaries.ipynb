{
  "nbformat": 4,
  "nbformat_minor": 0,
  "metadata": {
    "colab": {
      "provenance": []
    },
    "kernelspec": {
      "name": "python3",
      "display_name": "Python 3"
    },
    "language_info": {
      "name": "python"
    }
  },
  "cells": [
    {
      "cell_type": "markdown",
      "source": [
        "**Dictionaries**"
      ],
      "metadata": {
        "id": "hNEfHjiXOye3"
      }
    },
    {
      "cell_type": "code",
      "source": [
        "alien_0 = {'Name': 'Asad', 'Last Name': 'Ullah'}\n",
        "print(alien_0['Name'])\n",
        "print(alien_0['Last Name'])"
      ],
      "metadata": {
        "colab": {
          "base_uri": "https://localhost:8080/"
        },
        "id": "oUbIH_5AOyn_",
        "outputId": "9f6ea615-aed8-4ef3-89e4-48cc5bbd32b4"
      },
      "execution_count": 4,
      "outputs": [
        {
          "output_type": "stream",
          "name": "stdout",
          "text": [
            "Asad\n",
            "Ullah\n"
          ]
        }
      ]
    },
    {
      "cell_type": "code",
      "source": [
        "alien_0 = {'Name': 'Asad Ullah'}\n",
        "print(alien_0['Name'])"
      ],
      "metadata": {
        "colab": {
          "base_uri": "https://localhost:8080/"
        },
        "id": "u1dihoyoOy8n",
        "outputId": "9f35ffa7-238a-4e8d-889d-8a5e44624d21"
      },
      "execution_count": 5,
      "outputs": [
        {
          "output_type": "stream",
          "name": "stdout",
          "text": [
            "Asad Ullah\n"
          ]
        }
      ]
    },
    {
      "cell_type": "code",
      "source": [
        "alien_0 = {'Name': 'Asad', 'Percentages': 85}\n",
        "new_points = alien_0['Percentages']\n",
        "print(\"You just earned \" + str(new_points) + \" percentage!\")"
      ],
      "metadata": {
        "colab": {
          "base_uri": "https://localhost:8080/"
        },
        "id": "sYfWmeQLOzko",
        "outputId": "c21af354-ee86-45e9-86ef-e8e692735ca3"
      },
      "execution_count": 7,
      "outputs": [
        {
          "output_type": "stream",
          "name": "stdout",
          "text": [
            "You just earned 85 percentage!\n"
          ]
        }
      ]
    },
    {
      "cell_type": "code",
      "source": [
        "new={'Usman':1,'Ejaz':5,'Imran':7,}\n",
        "print(new)\n",
        "print(new['Usman'])\n",
        "print(new['Ejaz'])\n",
        "print(new['Imran'])\n",
        "new['Usman']=3\n",
        "print(new['Usman'])"
      ],
      "metadata": {
        "colab": {
          "base_uri": "https://localhost:8080/"
        },
        "id": "Ygq1wG5EPU9y",
        "outputId": "122c0d8f-876d-4090-a1df-a937222ebdb0"
      },
      "execution_count": 18,
      "outputs": [
        {
          "output_type": "stream",
          "name": "stdout",
          "text": [
            "{'Usman': 1, 'Ejaz': 5, 'Imran': 7}\n",
            "1\n",
            "5\n",
            "7\n",
            "3\n"
          ]
        }
      ]
    },
    {
      "cell_type": "code",
      "source": [
        "favorite_languages = {\n",
        "  'Asad': ['Islamabad', 'Lahore'],\n",
        "  'Usman': ['Islamabad'],\n",
        "  'Ejaz': ['Karachi', 'Faislabad'],\n",
        "  'Zeshan': ['Peshawar', 'Quetta'],\n",
        "}\n",
        "for name, languages in favorite_languages.items():\n",
        "  print(\"\\n\" + name.title() + \"'s favorite languages are:\")\n",
        "  for language in languages:\n",
        "    print(\"\\t\" + language.title())"
      ],
      "metadata": {
        "colab": {
          "base_uri": "https://localhost:8080/"
        },
        "id": "oAZ1F5rcRtoG",
        "outputId": "2ccb2ef4-e519-48ba-b893-1b2d2e08af3a"
      },
      "execution_count": 21,
      "outputs": [
        {
          "output_type": "stream",
          "name": "stdout",
          "text": [
            "\n",
            "Asad's favorite languages are:\n",
            "\tIslamabad\n",
            "\tLahore\n",
            "\n",
            "Usman's favorite languages are:\n",
            "\tIslamabad\n",
            "\n",
            "Ejaz's favorite languages are:\n",
            "\tKarachi\n",
            "\tFaislabad\n",
            "\n",
            "Zeshan's favorite languages are:\n",
            "\tPeshawar\n",
            "\tQuetta\n"
          ]
        }
      ]
    },
    {
      "cell_type": "code",
      "source": [
        "thisdict = {\n",
        "  \"brand\": \"Ford\",\n",
        "  \"model\": \"Mustang\",\n",
        "  \"year\": 1964\n",
        "}\n",
        "print(type(thisdict))"
      ],
      "metadata": {
        "colab": {
          "base_uri": "https://localhost:8080/"
        },
        "id": "8Nco_oDdTePm",
        "outputId": "efa504f3-4573-43d9-b5dd-7fa0d354877d"
      },
      "execution_count": 27,
      "outputs": [
        {
          "output_type": "stream",
          "name": "stdout",
          "text": [
            "<class 'dict'>\n"
          ]
        }
      ]
    },
    {
      "cell_type": "code",
      "source": [],
      "metadata": {
        "id": "XGaf4aGIU8mT"
      },
      "execution_count": null,
      "outputs": []
    }
  ]
}